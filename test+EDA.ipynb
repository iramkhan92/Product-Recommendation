{
  "cells": [
    {
      "cell_type": "code",
      "execution_count": null,
      "metadata": {
        "id": "Fk3FlgRLiubT"
      },
      "outputs": [],
      "source": [
        "import numpy as np\n",
        "import pandas as pd\n",
        "import matplotlib.pyplot as plt\n",
        "import seaborn as sns\n",
        "from sklearn import preprocessing\n",
        "from datetime import datetime"
      ]
    },
    {
      "cell_type": "code",
      "source": [
        "from google.colab import drive\n",
        "drive.mount('/content/drive')"
      ],
      "metadata": {
        "colab": {
          "base_uri": "https://localhost:8080/"
        },
        "id": "OLHGeVuM5ukk",
        "outputId": "4c89a046-c311-46f7-caf7-b48d1cbf2568"
      },
      "execution_count": null,
      "outputs": [
        {
          "output_type": "stream",
          "name": "stdout",
          "text": [
            "Mounted at /content/drive\n"
          ]
        }
      ]
    },
    {
      "cell_type": "code",
      "execution_count": null,
      "metadata": {
        "id": "IX3CQVkKiubZ"
      },
      "outputs": [],
      "source": [
        "train_data = pd.read_csv(\"/content/drive/MyDrive/Data 240/Group/train.csv\")\n",
        "test_data = pd.read_csv(\"/content/drive/MyDrive/Data 240/Group/test.csv\")"
      ]
    },
    {
      "cell_type": "code",
      "execution_count": null,
      "metadata": {
        "colab": {
          "base_uri": "https://localhost:8080/",
          "height": 424
        },
        "id": "B7Xu6amLiuba",
        "outputId": "4571aa8b-8e01-4246-cbdf-65bd96ec4e50"
      },
      "outputs": [
        {
          "output_type": "execute_result",
          "data": {
            "text/plain": [
              "                                           user      sku      category  \\\n",
              "0      0001cd0d10bbc585c9ba287c963e00873d4c0bfd  2032076  abcat0701002   \n",
              "1      00033dbced6acd3626c4b56ff5c55b8d69911681  9854804  abcat0701002   \n",
              "2      00033dbced6acd3626c4b56ff5c55b8d69911681  2670133  abcat0701002   \n",
              "3      00033dbced6acd3626c4b56ff5c55b8d69911681  9984142  abcat0701002   \n",
              "4      0007756f015345450f7be1df33695421466b7ce4  2541184  abcat0701002   \n",
              "...                                         ...      ...           ...   \n",
              "42360  fff95d849a4d9c9946e081459471adf4a7192d79  2670133  abcat0701002   \n",
              "42361  fffa393d127dec90b7eae4718535bd16be3b394d  2173065  abcat0701002   \n",
              "42362  fffa393d127dec90b7eae4718535bd16be3b394d  3046603  abcat0701002   \n",
              "42363  fffd288ec29a96dbac7356bcda0a1e9f88255a5b  2340293  abcat0701002   \n",
              "42364  ffff8ecfaaf3f1fab67c8f6739c131ec818dd4a6  2953607  abcat0701002   \n",
              "\n",
              "                         query               click_time  \\\n",
              "0                 gears of war  2011-10-09 17:22:56.101   \n",
              "1                 Gears of war  2011-09-25 13:35:42.198   \n",
              "2                 Gears of war  2011-09-25 13:36:08.668   \n",
              "3               Assassin creed  2011-09-25 13:37:23.709   \n",
              "4                  dead island  2011-09-11 15:15:34.336   \n",
              "...                        ...                      ...   \n",
              "42360         Modern warfare 3  2011-09-27 22:53:29.344   \n",
              "42361                   Batman  2011-10-14 12:44:14.669   \n",
              "42362                   Batman  2011-10-14 12:44:31.228   \n",
              "42363                360 games  2011-10-10 08:46:10.368   \n",
              "42364  Limited edition forza 4  2011-10-04 23:55:33.776   \n",
              "\n",
              "                    query_time  \n",
              "0      2011-10-09 17:21:42.917  \n",
              "1      2011-09-25 13:35:33.234  \n",
              "2      2011-09-25 13:35:33.234  \n",
              "3      2011-09-25 13:37:00.049  \n",
              "4      2011-09-11 15:15:26.206  \n",
              "...                        ...  \n",
              "42360  2011-09-27 22:53:04.644  \n",
              "42361  2011-10-14 12:44:07.004  \n",
              "42362  2011-10-14 12:44:07.004  \n",
              "42363  2011-10-10 08:43:56.768  \n",
              "42364  2011-10-04 23:55:15.853  \n",
              "\n",
              "[42365 rows x 6 columns]"
            ],
            "text/html": [
              "\n",
              "  <div id=\"df-1c277392-46bd-40cc-947a-d82e52a81e19\">\n",
              "    <div class=\"colab-df-container\">\n",
              "      <div>\n",
              "<style scoped>\n",
              "    .dataframe tbody tr th:only-of-type {\n",
              "        vertical-align: middle;\n",
              "    }\n",
              "\n",
              "    .dataframe tbody tr th {\n",
              "        vertical-align: top;\n",
              "    }\n",
              "\n",
              "    .dataframe thead th {\n",
              "        text-align: right;\n",
              "    }\n",
              "</style>\n",
              "<table border=\"1\" class=\"dataframe\">\n",
              "  <thead>\n",
              "    <tr style=\"text-align: right;\">\n",
              "      <th></th>\n",
              "      <th>user</th>\n",
              "      <th>sku</th>\n",
              "      <th>category</th>\n",
              "      <th>query</th>\n",
              "      <th>click_time</th>\n",
              "      <th>query_time</th>\n",
              "    </tr>\n",
              "  </thead>\n",
              "  <tbody>\n",
              "    <tr>\n",
              "      <th>0</th>\n",
              "      <td>0001cd0d10bbc585c9ba287c963e00873d4c0bfd</td>\n",
              "      <td>2032076</td>\n",
              "      <td>abcat0701002</td>\n",
              "      <td>gears of war</td>\n",
              "      <td>2011-10-09 17:22:56.101</td>\n",
              "      <td>2011-10-09 17:21:42.917</td>\n",
              "    </tr>\n",
              "    <tr>\n",
              "      <th>1</th>\n",
              "      <td>00033dbced6acd3626c4b56ff5c55b8d69911681</td>\n",
              "      <td>9854804</td>\n",
              "      <td>abcat0701002</td>\n",
              "      <td>Gears of war</td>\n",
              "      <td>2011-09-25 13:35:42.198</td>\n",
              "      <td>2011-09-25 13:35:33.234</td>\n",
              "    </tr>\n",
              "    <tr>\n",
              "      <th>2</th>\n",
              "      <td>00033dbced6acd3626c4b56ff5c55b8d69911681</td>\n",
              "      <td>2670133</td>\n",
              "      <td>abcat0701002</td>\n",
              "      <td>Gears of war</td>\n",
              "      <td>2011-09-25 13:36:08.668</td>\n",
              "      <td>2011-09-25 13:35:33.234</td>\n",
              "    </tr>\n",
              "    <tr>\n",
              "      <th>3</th>\n",
              "      <td>00033dbced6acd3626c4b56ff5c55b8d69911681</td>\n",
              "      <td>9984142</td>\n",
              "      <td>abcat0701002</td>\n",
              "      <td>Assassin creed</td>\n",
              "      <td>2011-09-25 13:37:23.709</td>\n",
              "      <td>2011-09-25 13:37:00.049</td>\n",
              "    </tr>\n",
              "    <tr>\n",
              "      <th>4</th>\n",
              "      <td>0007756f015345450f7be1df33695421466b7ce4</td>\n",
              "      <td>2541184</td>\n",
              "      <td>abcat0701002</td>\n",
              "      <td>dead island</td>\n",
              "      <td>2011-09-11 15:15:34.336</td>\n",
              "      <td>2011-09-11 15:15:26.206</td>\n",
              "    </tr>\n",
              "    <tr>\n",
              "      <th>...</th>\n",
              "      <td>...</td>\n",
              "      <td>...</td>\n",
              "      <td>...</td>\n",
              "      <td>...</td>\n",
              "      <td>...</td>\n",
              "      <td>...</td>\n",
              "    </tr>\n",
              "    <tr>\n",
              "      <th>42360</th>\n",
              "      <td>fff95d849a4d9c9946e081459471adf4a7192d79</td>\n",
              "      <td>2670133</td>\n",
              "      <td>abcat0701002</td>\n",
              "      <td>Modern warfare 3</td>\n",
              "      <td>2011-09-27 22:53:29.344</td>\n",
              "      <td>2011-09-27 22:53:04.644</td>\n",
              "    </tr>\n",
              "    <tr>\n",
              "      <th>42361</th>\n",
              "      <td>fffa393d127dec90b7eae4718535bd16be3b394d</td>\n",
              "      <td>2173065</td>\n",
              "      <td>abcat0701002</td>\n",
              "      <td>Batman</td>\n",
              "      <td>2011-10-14 12:44:14.669</td>\n",
              "      <td>2011-10-14 12:44:07.004</td>\n",
              "    </tr>\n",
              "    <tr>\n",
              "      <th>42362</th>\n",
              "      <td>fffa393d127dec90b7eae4718535bd16be3b394d</td>\n",
              "      <td>3046603</td>\n",
              "      <td>abcat0701002</td>\n",
              "      <td>Batman</td>\n",
              "      <td>2011-10-14 12:44:31.228</td>\n",
              "      <td>2011-10-14 12:44:07.004</td>\n",
              "    </tr>\n",
              "    <tr>\n",
              "      <th>42363</th>\n",
              "      <td>fffd288ec29a96dbac7356bcda0a1e9f88255a5b</td>\n",
              "      <td>2340293</td>\n",
              "      <td>abcat0701002</td>\n",
              "      <td>360 games</td>\n",
              "      <td>2011-10-10 08:46:10.368</td>\n",
              "      <td>2011-10-10 08:43:56.768</td>\n",
              "    </tr>\n",
              "    <tr>\n",
              "      <th>42364</th>\n",
              "      <td>ffff8ecfaaf3f1fab67c8f6739c131ec818dd4a6</td>\n",
              "      <td>2953607</td>\n",
              "      <td>abcat0701002</td>\n",
              "      <td>Limited edition forza 4</td>\n",
              "      <td>2011-10-04 23:55:33.776</td>\n",
              "      <td>2011-10-04 23:55:15.853</td>\n",
              "    </tr>\n",
              "  </tbody>\n",
              "</table>\n",
              "<p>42365 rows × 6 columns</p>\n",
              "</div>\n",
              "      <button class=\"colab-df-convert\" onclick=\"convertToInteractive('df-1c277392-46bd-40cc-947a-d82e52a81e19')\"\n",
              "              title=\"Convert this dataframe to an interactive table.\"\n",
              "              style=\"display:none;\">\n",
              "        \n",
              "  <svg xmlns=\"http://www.w3.org/2000/svg\" height=\"24px\"viewBox=\"0 0 24 24\"\n",
              "       width=\"24px\">\n",
              "    <path d=\"M0 0h24v24H0V0z\" fill=\"none\"/>\n",
              "    <path d=\"M18.56 5.44l.94 2.06.94-2.06 2.06-.94-2.06-.94-.94-2.06-.94 2.06-2.06.94zm-11 1L8.5 8.5l.94-2.06 2.06-.94-2.06-.94L8.5 2.5l-.94 2.06-2.06.94zm10 10l.94 2.06.94-2.06 2.06-.94-2.06-.94-.94-2.06-.94 2.06-2.06.94z\"/><path d=\"M17.41 7.96l-1.37-1.37c-.4-.4-.92-.59-1.43-.59-.52 0-1.04.2-1.43.59L10.3 9.45l-7.72 7.72c-.78.78-.78 2.05 0 2.83L4 21.41c.39.39.9.59 1.41.59.51 0 1.02-.2 1.41-.59l7.78-7.78 2.81-2.81c.8-.78.8-2.07 0-2.86zM5.41 20L4 18.59l7.72-7.72 1.47 1.35L5.41 20z\"/>\n",
              "  </svg>\n",
              "      </button>\n",
              "      \n",
              "  <style>\n",
              "    .colab-df-container {\n",
              "      display:flex;\n",
              "      flex-wrap:wrap;\n",
              "      gap: 12px;\n",
              "    }\n",
              "\n",
              "    .colab-df-convert {\n",
              "      background-color: #E8F0FE;\n",
              "      border: none;\n",
              "      border-radius: 50%;\n",
              "      cursor: pointer;\n",
              "      display: none;\n",
              "      fill: #1967D2;\n",
              "      height: 32px;\n",
              "      padding: 0 0 0 0;\n",
              "      width: 32px;\n",
              "    }\n",
              "\n",
              "    .colab-df-convert:hover {\n",
              "      background-color: #E2EBFA;\n",
              "      box-shadow: 0px 1px 2px rgba(60, 64, 67, 0.3), 0px 1px 3px 1px rgba(60, 64, 67, 0.15);\n",
              "      fill: #174EA6;\n",
              "    }\n",
              "\n",
              "    [theme=dark] .colab-df-convert {\n",
              "      background-color: #3B4455;\n",
              "      fill: #D2E3FC;\n",
              "    }\n",
              "\n",
              "    [theme=dark] .colab-df-convert:hover {\n",
              "      background-color: #434B5C;\n",
              "      box-shadow: 0px 1px 3px 1px rgba(0, 0, 0, 0.15);\n",
              "      filter: drop-shadow(0px 1px 2px rgba(0, 0, 0, 0.3));\n",
              "      fill: #FFFFFF;\n",
              "    }\n",
              "  </style>\n",
              "\n",
              "      <script>\n",
              "        const buttonEl =\n",
              "          document.querySelector('#df-1c277392-46bd-40cc-947a-d82e52a81e19 button.colab-df-convert');\n",
              "        buttonEl.style.display =\n",
              "          google.colab.kernel.accessAllowed ? 'block' : 'none';\n",
              "\n",
              "        async function convertToInteractive(key) {\n",
              "          const element = document.querySelector('#df-1c277392-46bd-40cc-947a-d82e52a81e19');\n",
              "          const dataTable =\n",
              "            await google.colab.kernel.invokeFunction('convertToInteractive',\n",
              "                                                     [key], {});\n",
              "          if (!dataTable) return;\n",
              "\n",
              "          const docLinkHtml = 'Like what you see? Visit the ' +\n",
              "            '<a target=\"_blank\" href=https://colab.research.google.com/notebooks/data_table.ipynb>data table notebook</a>'\n",
              "            + ' to learn more about interactive tables.';\n",
              "          element.innerHTML = '';\n",
              "          dataTable['output_type'] = 'display_data';\n",
              "          await google.colab.output.renderOutput(dataTable, element);\n",
              "          const docLink = document.createElement('div');\n",
              "          docLink.innerHTML = docLinkHtml;\n",
              "          element.appendChild(docLink);\n",
              "        }\n",
              "      </script>\n",
              "    </div>\n",
              "  </div>\n",
              "  "
            ]
          },
          "metadata": {},
          "execution_count": 4
        }
      ],
      "source": [
        "train_data"
      ]
    },
    {
      "cell_type": "code",
      "source": [
        "for item in train_data['sku']:\n",
        "  if len(str(item)) > 7:\n",
        "    print(item)"
      ],
      "metadata": {
        "colab": {
          "base_uri": "https://localhost:8080/"
        },
        "id": "q_Id95zXTPo3",
        "outputId": "bc6cc5b3-57ff-435b-ffb6-9950ab1758fe"
      },
      "execution_count": null,
      "outputs": [
        {
          "output_type": "stream",
          "name": "stdout",
          "text": [
            "9999169100050027\n"
          ]
        }
      ]
    },
    {
      "cell_type": "code",
      "source": [
        "ss = train_data[\"query\"].value_counts()"
      ],
      "metadata": {
        "id": "WZwrd7cntoVo"
      },
      "execution_count": null,
      "outputs": []
    },
    {
      "cell_type": "code",
      "source": [
        "print(ss[0:20])"
      ],
      "metadata": {
        "colab": {
          "base_uri": "https://localhost:8080/"
        },
        "id": "CKCQksn0v0wd",
        "outputId": "1722337f-79b5-490f-c4f1-213c23af4f1c"
      },
      "execution_count": null,
      "outputs": [
        {
          "output_type": "stream",
          "name": "stdout",
          "text": [
            "Gears of war 3        1471\n",
            "Dead island           1350\n",
            "Battlefield 3         1012\n",
            "dead island            911\n",
            "gears of war 3         877\n",
            "Batman                 709\n",
            "Gears of war           685\n",
            "Modern warfare 3       682\n",
            "Rocksmith              665\n",
            "Forza 4                648\n",
            "battlefield 3          590\n",
            "rocksmith              502\n",
            "gears of war           496\n",
            "xbox 360               463\n",
            "Batman arkham city     445\n",
            "Mw3                    431\n",
            "batman                 416\n",
            "forza 4                398\n",
            "Call of duty           376\n",
            "call of duty           367\n",
            "Name: query, dtype: int64\n"
          ]
        }
      ]
    },
    {
      "cell_type": "code",
      "source": [
        "import re\n",
        "train_data['query'] = [re.findall(r'\\w+', i.lower()) for i in train_data['query'].fillna('NONE')]"
      ],
      "metadata": {
        "id": "j2Mxh3DTy448"
      },
      "execution_count": null,
      "outputs": []
    },
    {
      "cell_type": "code",
      "source": [
        "train_data"
      ],
      "metadata": {
        "colab": {
          "base_uri": "https://localhost:8080/",
          "height": 424
        },
        "id": "ie1mfsZizPRw",
        "outputId": "b9197d20-873d-4165-d119-5975c62b6ccf"
      },
      "execution_count": null,
      "outputs": [
        {
          "output_type": "execute_result",
          "data": {
            "text/plain": [
              "                                           user      sku      category  \\\n",
              "0      0001cd0d10bbc585c9ba287c963e00873d4c0bfd  2032076  abcat0701002   \n",
              "1      00033dbced6acd3626c4b56ff5c55b8d69911681  9854804  abcat0701002   \n",
              "2      00033dbced6acd3626c4b56ff5c55b8d69911681  2670133  abcat0701002   \n",
              "3      00033dbced6acd3626c4b56ff5c55b8d69911681  9984142  abcat0701002   \n",
              "4      0007756f015345450f7be1df33695421466b7ce4  2541184  abcat0701002   \n",
              "...                                         ...      ...           ...   \n",
              "42360  fff95d849a4d9c9946e081459471adf4a7192d79  2670133  abcat0701002   \n",
              "42361  fffa393d127dec90b7eae4718535bd16be3b394d  2173065  abcat0701002   \n",
              "42362  fffa393d127dec90b7eae4718535bd16be3b394d  3046603  abcat0701002   \n",
              "42363  fffd288ec29a96dbac7356bcda0a1e9f88255a5b  2340293  abcat0701002   \n",
              "42364  ffff8ecfaaf3f1fab67c8f6739c131ec818dd4a6  2953607  abcat0701002   \n",
              "\n",
              "                              query               click_time  \\\n",
              "0                  [gears, of, war]  2011-10-09 17:22:56.101   \n",
              "1                  [gears, of, war]  2011-09-25 13:35:42.198   \n",
              "2                  [gears, of, war]  2011-09-25 13:36:08.668   \n",
              "3                 [assassin, creed]  2011-09-25 13:37:23.709   \n",
              "4                    [dead, island]  2011-09-11 15:15:34.336   \n",
              "...                             ...                      ...   \n",
              "42360          [modern, warfare, 3]  2011-09-27 22:53:29.344   \n",
              "42361                      [batman]  2011-10-14 12:44:14.669   \n",
              "42362                      [batman]  2011-10-14 12:44:31.228   \n",
              "42363                  [360, games]  2011-10-10 08:46:10.368   \n",
              "42364  [limited, edition, forza, 4]  2011-10-04 23:55:33.776   \n",
              "\n",
              "                    query_time  \n",
              "0      2011-10-09 17:21:42.917  \n",
              "1      2011-09-25 13:35:33.234  \n",
              "2      2011-09-25 13:35:33.234  \n",
              "3      2011-09-25 13:37:00.049  \n",
              "4      2011-09-11 15:15:26.206  \n",
              "...                        ...  \n",
              "42360  2011-09-27 22:53:04.644  \n",
              "42361  2011-10-14 12:44:07.004  \n",
              "42362  2011-10-14 12:44:07.004  \n",
              "42363  2011-10-10 08:43:56.768  \n",
              "42364  2011-10-04 23:55:15.853  \n",
              "\n",
              "[42365 rows x 6 columns]"
            ],
            "text/html": [
              "\n",
              "  <div id=\"df-f2572ecb-e2ff-4650-ac39-bc83899c640b\">\n",
              "    <div class=\"colab-df-container\">\n",
              "      <div>\n",
              "<style scoped>\n",
              "    .dataframe tbody tr th:only-of-type {\n",
              "        vertical-align: middle;\n",
              "    }\n",
              "\n",
              "    .dataframe tbody tr th {\n",
              "        vertical-align: top;\n",
              "    }\n",
              "\n",
              "    .dataframe thead th {\n",
              "        text-align: right;\n",
              "    }\n",
              "</style>\n",
              "<table border=\"1\" class=\"dataframe\">\n",
              "  <thead>\n",
              "    <tr style=\"text-align: right;\">\n",
              "      <th></th>\n",
              "      <th>user</th>\n",
              "      <th>sku</th>\n",
              "      <th>category</th>\n",
              "      <th>query</th>\n",
              "      <th>click_time</th>\n",
              "      <th>query_time</th>\n",
              "    </tr>\n",
              "  </thead>\n",
              "  <tbody>\n",
              "    <tr>\n",
              "      <th>0</th>\n",
              "      <td>0001cd0d10bbc585c9ba287c963e00873d4c0bfd</td>\n",
              "      <td>2032076</td>\n",
              "      <td>abcat0701002</td>\n",
              "      <td>[gears, of, war]</td>\n",
              "      <td>2011-10-09 17:22:56.101</td>\n",
              "      <td>2011-10-09 17:21:42.917</td>\n",
              "    </tr>\n",
              "    <tr>\n",
              "      <th>1</th>\n",
              "      <td>00033dbced6acd3626c4b56ff5c55b8d69911681</td>\n",
              "      <td>9854804</td>\n",
              "      <td>abcat0701002</td>\n",
              "      <td>[gears, of, war]</td>\n",
              "      <td>2011-09-25 13:35:42.198</td>\n",
              "      <td>2011-09-25 13:35:33.234</td>\n",
              "    </tr>\n",
              "    <tr>\n",
              "      <th>2</th>\n",
              "      <td>00033dbced6acd3626c4b56ff5c55b8d69911681</td>\n",
              "      <td>2670133</td>\n",
              "      <td>abcat0701002</td>\n",
              "      <td>[gears, of, war]</td>\n",
              "      <td>2011-09-25 13:36:08.668</td>\n",
              "      <td>2011-09-25 13:35:33.234</td>\n",
              "    </tr>\n",
              "    <tr>\n",
              "      <th>3</th>\n",
              "      <td>00033dbced6acd3626c4b56ff5c55b8d69911681</td>\n",
              "      <td>9984142</td>\n",
              "      <td>abcat0701002</td>\n",
              "      <td>[assassin, creed]</td>\n",
              "      <td>2011-09-25 13:37:23.709</td>\n",
              "      <td>2011-09-25 13:37:00.049</td>\n",
              "    </tr>\n",
              "    <tr>\n",
              "      <th>4</th>\n",
              "      <td>0007756f015345450f7be1df33695421466b7ce4</td>\n",
              "      <td>2541184</td>\n",
              "      <td>abcat0701002</td>\n",
              "      <td>[dead, island]</td>\n",
              "      <td>2011-09-11 15:15:34.336</td>\n",
              "      <td>2011-09-11 15:15:26.206</td>\n",
              "    </tr>\n",
              "    <tr>\n",
              "      <th>...</th>\n",
              "      <td>...</td>\n",
              "      <td>...</td>\n",
              "      <td>...</td>\n",
              "      <td>...</td>\n",
              "      <td>...</td>\n",
              "      <td>...</td>\n",
              "    </tr>\n",
              "    <tr>\n",
              "      <th>42360</th>\n",
              "      <td>fff95d849a4d9c9946e081459471adf4a7192d79</td>\n",
              "      <td>2670133</td>\n",
              "      <td>abcat0701002</td>\n",
              "      <td>[modern, warfare, 3]</td>\n",
              "      <td>2011-09-27 22:53:29.344</td>\n",
              "      <td>2011-09-27 22:53:04.644</td>\n",
              "    </tr>\n",
              "    <tr>\n",
              "      <th>42361</th>\n",
              "      <td>fffa393d127dec90b7eae4718535bd16be3b394d</td>\n",
              "      <td>2173065</td>\n",
              "      <td>abcat0701002</td>\n",
              "      <td>[batman]</td>\n",
              "      <td>2011-10-14 12:44:14.669</td>\n",
              "      <td>2011-10-14 12:44:07.004</td>\n",
              "    </tr>\n",
              "    <tr>\n",
              "      <th>42362</th>\n",
              "      <td>fffa393d127dec90b7eae4718535bd16be3b394d</td>\n",
              "      <td>3046603</td>\n",
              "      <td>abcat0701002</td>\n",
              "      <td>[batman]</td>\n",
              "      <td>2011-10-14 12:44:31.228</td>\n",
              "      <td>2011-10-14 12:44:07.004</td>\n",
              "    </tr>\n",
              "    <tr>\n",
              "      <th>42363</th>\n",
              "      <td>fffd288ec29a96dbac7356bcda0a1e9f88255a5b</td>\n",
              "      <td>2340293</td>\n",
              "      <td>abcat0701002</td>\n",
              "      <td>[360, games]</td>\n",
              "      <td>2011-10-10 08:46:10.368</td>\n",
              "      <td>2011-10-10 08:43:56.768</td>\n",
              "    </tr>\n",
              "    <tr>\n",
              "      <th>42364</th>\n",
              "      <td>ffff8ecfaaf3f1fab67c8f6739c131ec818dd4a6</td>\n",
              "      <td>2953607</td>\n",
              "      <td>abcat0701002</td>\n",
              "      <td>[limited, edition, forza, 4]</td>\n",
              "      <td>2011-10-04 23:55:33.776</td>\n",
              "      <td>2011-10-04 23:55:15.853</td>\n",
              "    </tr>\n",
              "  </tbody>\n",
              "</table>\n",
              "<p>42365 rows × 6 columns</p>\n",
              "</div>\n",
              "      <button class=\"colab-df-convert\" onclick=\"convertToInteractive('df-f2572ecb-e2ff-4650-ac39-bc83899c640b')\"\n",
              "              title=\"Convert this dataframe to an interactive table.\"\n",
              "              style=\"display:none;\">\n",
              "        \n",
              "  <svg xmlns=\"http://www.w3.org/2000/svg\" height=\"24px\"viewBox=\"0 0 24 24\"\n",
              "       width=\"24px\">\n",
              "    <path d=\"M0 0h24v24H0V0z\" fill=\"none\"/>\n",
              "    <path d=\"M18.56 5.44l.94 2.06.94-2.06 2.06-.94-2.06-.94-.94-2.06-.94 2.06-2.06.94zm-11 1L8.5 8.5l.94-2.06 2.06-.94-2.06-.94L8.5 2.5l-.94 2.06-2.06.94zm10 10l.94 2.06.94-2.06 2.06-.94-2.06-.94-.94-2.06-.94 2.06-2.06.94z\"/><path d=\"M17.41 7.96l-1.37-1.37c-.4-.4-.92-.59-1.43-.59-.52 0-1.04.2-1.43.59L10.3 9.45l-7.72 7.72c-.78.78-.78 2.05 0 2.83L4 21.41c.39.39.9.59 1.41.59.51 0 1.02-.2 1.41-.59l7.78-7.78 2.81-2.81c.8-.78.8-2.07 0-2.86zM5.41 20L4 18.59l7.72-7.72 1.47 1.35L5.41 20z\"/>\n",
              "  </svg>\n",
              "      </button>\n",
              "      \n",
              "  <style>\n",
              "    .colab-df-container {\n",
              "      display:flex;\n",
              "      flex-wrap:wrap;\n",
              "      gap: 12px;\n",
              "    }\n",
              "\n",
              "    .colab-df-convert {\n",
              "      background-color: #E8F0FE;\n",
              "      border: none;\n",
              "      border-radius: 50%;\n",
              "      cursor: pointer;\n",
              "      display: none;\n",
              "      fill: #1967D2;\n",
              "      height: 32px;\n",
              "      padding: 0 0 0 0;\n",
              "      width: 32px;\n",
              "    }\n",
              "\n",
              "    .colab-df-convert:hover {\n",
              "      background-color: #E2EBFA;\n",
              "      box-shadow: 0px 1px 2px rgba(60, 64, 67, 0.3), 0px 1px 3px 1px rgba(60, 64, 67, 0.15);\n",
              "      fill: #174EA6;\n",
              "    }\n",
              "\n",
              "    [theme=dark] .colab-df-convert {\n",
              "      background-color: #3B4455;\n",
              "      fill: #D2E3FC;\n",
              "    }\n",
              "\n",
              "    [theme=dark] .colab-df-convert:hover {\n",
              "      background-color: #434B5C;\n",
              "      box-shadow: 0px 1px 3px 1px rgba(0, 0, 0, 0.15);\n",
              "      filter: drop-shadow(0px 1px 2px rgba(0, 0, 0, 0.3));\n",
              "      fill: #FFFFFF;\n",
              "    }\n",
              "  </style>\n",
              "\n",
              "      <script>\n",
              "        const buttonEl =\n",
              "          document.querySelector('#df-f2572ecb-e2ff-4650-ac39-bc83899c640b button.colab-df-convert');\n",
              "        buttonEl.style.display =\n",
              "          google.colab.kernel.accessAllowed ? 'block' : 'none';\n",
              "\n",
              "        async function convertToInteractive(key) {\n",
              "          const element = document.querySelector('#df-f2572ecb-e2ff-4650-ac39-bc83899c640b');\n",
              "          const dataTable =\n",
              "            await google.colab.kernel.invokeFunction('convertToInteractive',\n",
              "                                                     [key], {});\n",
              "          if (!dataTable) return;\n",
              "\n",
              "          const docLinkHtml = 'Like what you see? Visit the ' +\n",
              "            '<a target=\"_blank\" href=https://colab.research.google.com/notebooks/data_table.ipynb>data table notebook</a>'\n",
              "            + ' to learn more about interactive tables.';\n",
              "          element.innerHTML = '';\n",
              "          dataTable['output_type'] = 'display_data';\n",
              "          await google.colab.output.renderOutput(dataTable, element);\n",
              "          const docLink = document.createElement('div');\n",
              "          docLink.innerHTML = docLinkHtml;\n",
              "          element.appendChild(docLink);\n",
              "        }\n",
              "      </script>\n",
              "    </div>\n",
              "  </div>\n",
              "  "
            ]
          },
          "metadata": {},
          "execution_count": 12
        }
      ]
    },
    {
      "cell_type": "code",
      "source": [
        "train_data[\"query\"].value_counts()[0:50]"
      ],
      "metadata": {
        "colab": {
          "base_uri": "https://localhost:8080/",
          "height": 1000
        },
        "id": "ArqxVPbEzKzF",
        "outputId": "4c9c0ddc-ae12-4f9f-e94f-ca5465a2c49d"
      },
      "execution_count": null,
      "outputs": [
        {
          "output_type": "error",
          "ename": "TypeError",
          "evalue": "ignored",
          "traceback": [
            "\u001b[0;31m---------------------------------------------------------------------------\u001b[0m",
            "\u001b[0;31mTypeError\u001b[0m                                 Traceback (most recent call last)",
            "\u001b[0;32mpandas/_libs/hashtable_class_helper.pxi\u001b[0m in \u001b[0;36mpandas._libs.hashtable.PyObjectHashTable.map_locations\u001b[0;34m()\u001b[0m\n",
            "\u001b[0;31mTypeError\u001b[0m: unhashable type: 'list'"
          ]
        },
        {
          "output_type": "stream",
          "name": "stderr",
          "text": [
            "Exception ignored in: 'pandas._libs.index.IndexEngine._call_map_locations'\n",
            "Traceback (most recent call last):\n",
            "  File \"pandas/_libs/hashtable_class_helper.pxi\", line 5231, in pandas._libs.hashtable.PyObjectHashTable.map_locations\n",
            "TypeError: unhashable type: 'list'\n"
          ]
        },
        {
          "output_type": "execute_result",
          "data": {
            "text/plain": [
              "[gears, of, war, 3]                     2428\n",
              "[dead, island]                          2329\n",
              "[battlefield, 3]                        1607\n",
              "[gears, of, war]                        1204\n",
              "[rocksmith]                             1170\n",
              "[batman]                                1127\n",
              "[forza, 4]                              1053\n",
              "[modern, warfare, 3]                    1032\n",
              "[batman, arkham, city]                   851\n",
              "[xbox, 360]                              824\n",
              "[call, of, duty]                         755\n",
              "[mw3]                                    742\n",
              "[fifa, 12]                               606\n",
              "[forza]                                  576\n",
              "[nba, 2k12]                              574\n",
              "[madden, 12]                             521\n",
              "[arkham, city]                           464\n",
              "[battlefield]                            429\n",
              "[rage]                                   423\n",
              "[xbox]                                   396\n",
              "[halo]                                   369\n",
              "[skyrim]                                 354\n",
              "[nhl, 12]                                310\n",
              "[deus, ex]                               310\n",
              "[madden]                                 289\n",
              "[laborday_videogames_20110902]           288\n",
              "[dark, souls]                            286\n",
              "[xbox, 360, games]                       276\n",
              "[halo, reach]                            257\n",
              "[call, of, duty, modern, warfare, 3]     250\n",
              "[xbox, games]                            243\n",
              "[kinect]                                 231\n",
              "[halo, 3]                                204\n",
              "[x, box, 360]                            198\n",
              "[just, dance, 3]                         192\n",
              "[xbox360]                                191\n",
              "[20110801_gow3]                          185\n",
              "[rock, smith]                            179\n",
              "[assassins, creed]                       176\n",
              "[black, ops]                             171\n",
              "[dance, central, 2]                      166\n",
              "[ghost, recon]                           165\n",
              "[modern, warfare]                        164\n",
              "[minecraft]                              151\n",
              "[child, of, eden]                        147\n",
              "[dance, central]                         138\n",
              "[need, for, speed]                       137\n",
              "[oblivion]                               131\n",
              "[grand, theft, auto]                     129\n",
              "[borderlands]                            128\n",
              "Name: query, dtype: int64"
            ]
          },
          "metadata": {},
          "execution_count": 11
        }
      ]
    },
    {
      "cell_type": "code",
      "source": [
        "sizes_train = train_data[\"query\"].value_counts()[0:10]\n",
        "#sizes_train = sizes_train / np.sum(sizes_train)\n",
        "\n",
        "plt.figure(figsize=(16,4))\n",
        "sns.barplot(sizes_train.index, sizes_train.values, alpha=0.8)\n",
        "plt.legend()\n",
        "plt.xlabel('Top 10 Games Clicked on', fontsize=12)\n",
        "plt.ylabel('Number of Clicks', fontsize=12)"
      ],
      "metadata": {
        "colab": {
          "base_uri": "https://localhost:8080/",
          "height": 374
        },
        "id": "ehrPpjPgsL-J",
        "outputId": "1adddad5-2bc1-4944-ebf0-7c47a3a25e47"
      },
      "execution_count": null,
      "outputs": [
        {
          "output_type": "stream",
          "name": "stderr",
          "text": [
            "/usr/local/lib/python3.7/dist-packages/seaborn/_decorators.py:43: FutureWarning: Pass the following variables as keyword args: x, y. From version 0.12, the only valid positional argument will be `data`, and passing other arguments without an explicit keyword will result in an error or misinterpretation.\n",
            "  FutureWarning\n",
            "WARNING:matplotlib.legend:No handles with labels found to put in legend.\n"
          ]
        },
        {
          "output_type": "execute_result",
          "data": {
            "text/plain": [
              "Text(0, 0.5, 'Number of Clicks')"
            ]
          },
          "metadata": {},
          "execution_count": 47
        },
        {
          "output_type": "display_data",
          "data": {
            "text/plain": [
              "<Figure size 1152x288 with 1 Axes>"
            ],
            "image/png": "[encoded data removed]"
          },
          "metadata": {
            "needs_background": "light"
          }
        }
      ]
    },
    {
      "cell_type": "code",
      "source": [
        "type(train_data[\"click_time\"][0])"
      ],
      "metadata": {
        "colab": {
          "base_uri": "https://localhost:8080/"
        },
        "id": "FV4ZEtXs2-_g",
        "outputId": "7e2f2073-4268-4ac7-da0f-18bcdf87c826"
      },
      "execution_count": null,
      "outputs": [
        {
          "output_type": "execute_result",
          "data": {
            "text/plain": [
              "str"
            ]
          },
          "metadata": {},
          "execution_count": 48
        }
      ]
    },
    {
      "cell_type": "code",
      "source": [
        "train_data[\"click_time\"] = pd.to_datetime(train_data[\"click_time\"],\n",
        "errors = 'coerce')"
      ],
      "metadata": {
        "id": "HIsKXjj13SMe"
      },
      "execution_count": null,
      "outputs": []
    },
    {
      "cell_type": "code",
      "source": [
        "#train_data[\"query_time\"] = pd.to_datetime(train_data[\"query_time\"],\n",
        "#errors = 'coerce')"
      ],
      "metadata": {
        "id": "SjG0VA4tWAMn"
      },
      "execution_count": null,
      "outputs": []
    },
    {
      "cell_type": "code",
      "source": [
        "train_data"
      ],
      "metadata": {
        "colab": {
          "base_uri": "https://localhost:8080/",
          "height": 424
        },
        "id": "PPnvEoMB3hUT",
        "outputId": "98870cfc-723c-493a-cd1b-3eebca6c36be"
      },
      "execution_count": null,
      "outputs": [
        {
          "output_type": "execute_result",
          "data": {
            "text/plain": [
              "                                           user      sku      category  \\\n",
              "0      0001cd0d10bbc585c9ba287c963e00873d4c0bfd  2032076  abcat0701002   \n",
              "1      00033dbced6acd3626c4b56ff5c55b8d69911681  9854804  abcat0701002   \n",
              "2      00033dbced6acd3626c4b56ff5c55b8d69911681  2670133  abcat0701002   \n",
              "3      00033dbced6acd3626c4b56ff5c55b8d69911681  9984142  abcat0701002   \n",
              "4      0007756f015345450f7be1df33695421466b7ce4  2541184  abcat0701002   \n",
              "...                                         ...      ...           ...   \n",
              "42360  fff95d849a4d9c9946e081459471adf4a7192d79  2670133  abcat0701002   \n",
              "42361  fffa393d127dec90b7eae4718535bd16be3b394d  2173065  abcat0701002   \n",
              "42362  fffa393d127dec90b7eae4718535bd16be3b394d  3046603  abcat0701002   \n",
              "42363  fffd288ec29a96dbac7356bcda0a1e9f88255a5b  2340293  abcat0701002   \n",
              "42364  ffff8ecfaaf3f1fab67c8f6739c131ec818dd4a6  2953607  abcat0701002   \n",
              "\n",
              "                              query              click_time  \\\n",
              "0                  [gears, of, war] 2011-10-09 17:22:56.101   \n",
              "1                  [gears, of, war] 2011-09-25 13:35:42.198   \n",
              "2                  [gears, of, war] 2011-09-25 13:36:08.668   \n",
              "3                 [assassin, creed] 2011-09-25 13:37:23.709   \n",
              "4                    [dead, island] 2011-09-11 15:15:34.336   \n",
              "...                             ...                     ...   \n",
              "42360          [modern, warfare, 3] 2011-09-27 22:53:29.344   \n",
              "42361                      [batman] 2011-10-14 12:44:14.669   \n",
              "42362                      [batman] 2011-10-14 12:44:31.228   \n",
              "42363                  [360, games] 2011-10-10 08:46:10.368   \n",
              "42364  [limited, edition, forza, 4] 2011-10-04 23:55:33.776   \n",
              "\n",
              "                    query_time  \n",
              "0      2011-10-09 17:21:42.917  \n",
              "1      2011-09-25 13:35:33.234  \n",
              "2      2011-09-25 13:35:33.234  \n",
              "3      2011-09-25 13:37:00.049  \n",
              "4      2011-09-11 15:15:26.206  \n",
              "...                        ...  \n",
              "42360  2011-09-27 22:53:04.644  \n",
              "42361  2011-10-14 12:44:07.004  \n",
              "42362  2011-10-14 12:44:07.004  \n",
              "42363  2011-10-10 08:43:56.768  \n",
              "42364  2011-10-04 23:55:15.853  \n",
              "\n",
              "[42365 rows x 6 columns]"
            ],
            "text/html": [
              "\n",
              "  <div id=\"df-2c9be1e2-247e-4377-8aad-d03553195992\">\n",
              "    <div class=\"colab-df-container\">\n",
              "      <div>\n",
              "<style scoped>\n",
              "    .dataframe tbody tr th:only-of-type {\n",
              "        vertical-align: middle;\n",
              "    }\n",
              "\n",
              "    .dataframe tbody tr th {\n",
              "        vertical-align: top;\n",
              "    }\n",
              "\n",
              "    .dataframe thead th {\n",
              "        text-align: right;\n",
              "    }\n",
              "</style>\n",
              "<table border=\"1\" class=\"dataframe\">\n",
              "  <thead>\n",
              "    <tr style=\"text-align: right;\">\n",
              "      <th></th>\n",
              "      <th>user</th>\n",
              "      <th>sku</th>\n",
              "      <th>category</th>\n",
              "      <th>query</th>\n",
              "      <th>click_time</th>\n",
              "      <th>query_time</th>\n",
              "    </tr>\n",
              "  </thead>\n",
              "  <tbody>\n",
              "    <tr>\n",
              "      <th>0</th>\n",
              "      <td>0001cd0d10bbc585c9ba287c963e00873d4c0bfd</td>\n",
              "      <td>2032076</td>\n",
              "      <td>abcat0701002</td>\n",
              "      <td>[gears, of, war]</td>\n",
              "      <td>2011-10-09 17:22:56.101</td>\n",
              "      <td>2011-10-09 17:21:42.917</td>\n",
              "    </tr>\n",
              "    <tr>\n",
              "      <th>1</th>\n",
              "      <td>00033dbced6acd3626c4b56ff5c55b8d69911681</td>\n",
              "      <td>9854804</td>\n",
              "      <td>abcat0701002</td>\n",
              "      <td>[gears, of, war]</td>\n",
              "      <td>2011-09-25 13:35:42.198</td>\n",
              "      <td>2011-09-25 13:35:33.234</td>\n",
              "    </tr>\n",
              "    <tr>\n",
              "      <th>2</th>\n",
              "      <td>00033dbced6acd3626c4b56ff5c55b8d69911681</td>\n",
              "      <td>2670133</td>\n",
              "      <td>abcat0701002</td>\n",
              "      <td>[gears, of, war]</td>\n",
              "      <td>2011-09-25 13:36:08.668</td>\n",
              "      <td>2011-09-25 13:35:33.234</td>\n",
              "    </tr>\n",
              "    <tr>\n",
              "      <th>3</th>\n",
              "      <td>00033dbced6acd3626c4b56ff5c55b8d69911681</td>\n",
              "      <td>9984142</td>\n",
              "      <td>abcat0701002</td>\n",
              "      <td>[assassin, creed]</td>\n",
              "      <td>2011-09-25 13:37:23.709</td>\n",
              "      <td>2011-09-25 13:37:00.049</td>\n",
              "    </tr>\n",
              "    <tr>\n",
              "      <th>4</th>\n",
              "      <td>0007756f015345450f7be1df33695421466b7ce4</td>\n",
              "      <td>2541184</td>\n",
              "      <td>abcat0701002</td>\n",
              "      <td>[dead, island]</td>\n",
              "      <td>2011-09-11 15:15:34.336</td>\n",
              "      <td>2011-09-11 15:15:26.206</td>\n",
              "    </tr>\n",
              "    <tr>\n",
              "      <th>...</th>\n",
              "      <td>...</td>\n",
              "      <td>...</td>\n",
              "      <td>...</td>\n",
              "      <td>...</td>\n",
              "      <td>...</td>\n",
              "      <td>...</td>\n",
              "    </tr>\n",
              "    <tr>\n",
              "      <th>42360</th>\n",
              "      <td>fff95d849a4d9c9946e081459471adf4a7192d79</td>\n",
              "      <td>2670133</td>\n",
              "      <td>abcat0701002</td>\n",
              "      <td>[modern, warfare, 3]</td>\n",
              "      <td>2011-09-27 22:53:29.344</td>\n",
              "      <td>2011-09-27 22:53:04.644</td>\n",
              "    </tr>\n",
              "    <tr>\n",
              "      <th>42361</th>\n",
              "      <td>fffa393d127dec90b7eae4718535bd16be3b394d</td>\n",
              "      <td>2173065</td>\n",
              "      <td>abcat0701002</td>\n",
              "      <td>[batman]</td>\n",
              "      <td>2011-10-14 12:44:14.669</td>\n",
              "      <td>2011-10-14 12:44:07.004</td>\n",
              "    </tr>\n",
              "    <tr>\n",
              "      <th>42362</th>\n",
              "      <td>fffa393d127dec90b7eae4718535bd16be3b394d</td>\n",
              "      <td>3046603</td>\n",
              "      <td>abcat0701002</td>\n",
              "      <td>[batman]</td>\n",
              "      <td>2011-10-14 12:44:31.228</td>\n",
              "      <td>2011-10-14 12:44:07.004</td>\n",
              "    </tr>\n",
              "    <tr>\n",
              "      <th>42363</th>\n",
              "      <td>fffd288ec29a96dbac7356bcda0a1e9f88255a5b</td>\n",
              "      <td>2340293</td>\n",
              "      <td>abcat0701002</td>\n",
              "      <td>[360, games]</td>\n",
              "      <td>2011-10-10 08:46:10.368</td>\n",
              "      <td>2011-10-10 08:43:56.768</td>\n",
              "    </tr>\n",
              "    <tr>\n",
              "      <th>42364</th>\n",
              "      <td>ffff8ecfaaf3f1fab67c8f6739c131ec818dd4a6</td>\n",
              "      <td>2953607</td>\n",
              "      <td>abcat0701002</td>\n",
              "      <td>[limited, edition, forza, 4]</td>\n",
              "      <td>2011-10-04 23:55:33.776</td>\n",
              "      <td>2011-10-04 23:55:15.853</td>\n",
              "    </tr>\n",
              "  </tbody>\n",
              "</table>\n",
              "<p>42365 rows × 6 columns</p>\n",
              "</div>\n",
              "      <button class=\"colab-df-convert\" onclick=\"convertToInteractive('df-2c9be1e2-247e-4377-8aad-d03553195992')\"\n",
              "              title=\"Convert this dataframe to an interactive table.\"\n",
              "              style=\"display:none;\">\n",
              "        \n",
              "  <svg xmlns=\"http://www.w3.org/2000/svg\" height=\"24px\"viewBox=\"0 0 24 24\"\n",
              "       width=\"24px\">\n",
              "    <path d=\"M0 0h24v24H0V0z\" fill=\"none\"/>\n",
              "    <path d=\"M18.56 5.44l.94 2.06.94-2.06 2.06-.94-2.06-.94-.94-2.06-.94 2.06-2.06.94zm-11 1L8.5 8.5l.94-2.06 2.06-.94-2.06-.94L8.5 2.5l-.94 2.06-2.06.94zm10 10l.94 2.06.94-2.06 2.06-.94-2.06-.94-.94-2.06-.94 2.06-2.06.94z\"/><path d=\"M17.41 7.96l-1.37-1.37c-.4-.4-.92-.59-1.43-.59-.52 0-1.04.2-1.43.59L10.3 9.45l-7.72 7.72c-.78.78-.78 2.05 0 2.83L4 21.41c.39.39.9.59 1.41.59.51 0 1.02-.2 1.41-.59l7.78-7.78 2.81-2.81c.8-.78.8-2.07 0-2.86zM5.41 20L4 18.59l7.72-7.72 1.47 1.35L5.41 20z\"/>\n",
              "  </svg>\n",
              "      </button>\n",
              "      \n",
              "  <style>\n",
              "    .colab-df-container {\n",
              "      display:flex;\n",
              "      flex-wrap:wrap;\n",
              "      gap: 12px;\n",
              "    }\n",
              "\n",
              "    .colab-df-convert {\n",
              "      background-color: #E8F0FE;\n",
              "      border: none;\n",
              "      border-radius: 50%;\n",
              "      cursor: pointer;\n",
              "      display: none;\n",
              "      fill: #1967D2;\n",
              "      height: 32px;\n",
              "      padding: 0 0 0 0;\n",
              "      width: 32px;\n",
              "    }\n",
              "\n",
              "    .colab-df-convert:hover {\n",
              "      background-color: #E2EBFA;\n",
              "      box-shadow: 0px 1px 2px rgba(60, 64, 67, 0.3), 0px 1px 3px 1px rgba(60, 64, 67, 0.15);\n",
              "      fill: #174EA6;\n",
              "    }\n",
              "\n",
              "    [theme=dark] .colab-df-convert {\n",
              "      background-color: #3B4455;\n",
              "      fill: #D2E3FC;\n",
              "    }\n",
              "\n",
              "    [theme=dark] .colab-df-convert:hover {\n",
              "      background-color: #434B5C;\n",
              "      box-shadow: 0px 1px 3px 1px rgba(0, 0, 0, 0.15);\n",
              "      filter: drop-shadow(0px 1px 2px rgba(0, 0, 0, 0.3));\n",
              "      fill: #FFFFFF;\n",
              "    }\n",
              "  </style>\n",
              "\n",
              "      <script>\n",
              "        const buttonEl =\n",
              "          document.querySelector('#df-2c9be1e2-247e-4377-8aad-d03553195992 button.colab-df-convert');\n",
              "        buttonEl.style.display =\n",
              "          google.colab.kernel.accessAllowed ? 'block' : 'none';\n",
              "\n",
              "        async function convertToInteractive(key) {\n",
              "          const element = document.querySelector('#df-2c9be1e2-247e-4377-8aad-d03553195992');\n",
              "          const dataTable =\n",
              "            await google.colab.kernel.invokeFunction('convertToInteractive',\n",
              "                                                     [key], {});\n",
              "          if (!dataTable) return;\n",
              "\n",
              "          const docLinkHtml = 'Like what you see? Visit the ' +\n",
              "            '<a target=\"_blank\" href=https://colab.research.google.com/notebooks/data_table.ipynb>data table notebook</a>'\n",
              "            + ' to learn more about interactive tables.';\n",
              "          element.innerHTML = '';\n",
              "          dataTable['output_type'] = 'display_data';\n",
              "          await google.colab.output.renderOutput(dataTable, element);\n",
              "          const docLink = document.createElement('div');\n",
              "          docLink.innerHTML = docLinkHtml;\n",
              "          element.appendChild(docLink);\n",
              "        }\n",
              "      </script>\n",
              "    </div>\n",
              "  </div>\n",
              "  "
            ]
          },
          "metadata": {},
          "execution_count": 14
        }
      ]
    },
    {
      "cell_type": "code",
      "source": [
        "train_data['click_time_year'] = train_data[\"click_time\"].dt.year\n",
        "train_data['click_time_month'] = train_data[\"click_time\"].dt.month\n",
        "train_data['click_time_day'] = train_data[\"click_time\"].dt.day\n",
        "train_data['click_time_hour'] = train_data[\"click_time\"].dt.hour\n",
        "#train_data['click_time_minute'] = train_data[\"click_time\"].dt.minute"
      ],
      "metadata": {
        "id": "x1LSrTk85hLe"
      },
      "execution_count": null,
      "outputs": []
    },
    {
      "cell_type": "code",
      "source": [
        "#train_data['query_time_year'] = train_data[\"query_time\"].dt.year\n",
        "#train_data['query_time_month'] = train_data[\"query_time\"].dt.month\n",
        "#train_data['query_time_day'] = train_data[\"query_time\"].dt.day\n",
        "#train_data['query_time_hour'] = train_data[\"query_time\"].dt.hour"
      ],
      "metadata": {
        "id": "aTWvbmrKWF2f"
      },
      "execution_count": null,
      "outputs": []
    },
    {
      "cell_type": "code",
      "source": [
        "train_data"
      ],
      "metadata": {
        "colab": {
          "base_uri": "https://localhost:8080/",
          "height": 696
        },
        "id": "7zNR8tad6wAp",
        "outputId": "0abf8a6c-603b-4a91-f609-12c063af87cd"
      },
      "execution_count": null,
      "outputs": [
        {
          "output_type": "execute_result",
          "data": {
            "text/plain": [
              "                                           user      sku      category  \\\n",
              "0      0001cd0d10bbc585c9ba287c963e00873d4c0bfd  2032076  abcat0701002   \n",
              "1      00033dbced6acd3626c4b56ff5c55b8d69911681  9854804  abcat0701002   \n",
              "2      00033dbced6acd3626c4b56ff5c55b8d69911681  2670133  abcat0701002   \n",
              "3      00033dbced6acd3626c4b56ff5c55b8d69911681  9984142  abcat0701002   \n",
              "4      0007756f015345450f7be1df33695421466b7ce4  2541184  abcat0701002   \n",
              "...                                         ...      ...           ...   \n",
              "42360  fff95d849a4d9c9946e081459471adf4a7192d79  2670133  abcat0701002   \n",
              "42361  fffa393d127dec90b7eae4718535bd16be3b394d  2173065  abcat0701002   \n",
              "42362  fffa393d127dec90b7eae4718535bd16be3b394d  3046603  abcat0701002   \n",
              "42363  fffd288ec29a96dbac7356bcda0a1e9f88255a5b  2340293  abcat0701002   \n",
              "42364  ffff8ecfaaf3f1fab67c8f6739c131ec818dd4a6  2953607  abcat0701002   \n",
              "\n",
              "                              query              click_time  \\\n",
              "0                  [gears, of, war] 2011-10-09 17:22:56.101   \n",
              "1                  [gears, of, war] 2011-09-25 13:35:42.198   \n",
              "2                  [gears, of, war] 2011-09-25 13:36:08.668   \n",
              "3                 [assassin, creed] 2011-09-25 13:37:23.709   \n",
              "4                    [dead, island] 2011-09-11 15:15:34.336   \n",
              "...                             ...                     ...   \n",
              "42360          [modern, warfare, 3] 2011-09-27 22:53:29.344   \n",
              "42361                      [batman] 2011-10-14 12:44:14.669   \n",
              "42362                      [batman] 2011-10-14 12:44:31.228   \n",
              "42363                  [360, games] 2011-10-10 08:46:10.368   \n",
              "42364  [limited, edition, forza, 4] 2011-10-04 23:55:33.776   \n",
              "\n",
              "                    query_time  click_time_year  click_time_month  \\\n",
              "0      2011-10-09 17:21:42.917             2011                10   \n",
              "1      2011-09-25 13:35:33.234             2011                 9   \n",
              "2      2011-09-25 13:35:33.234             2011                 9   \n",
              "3      2011-09-25 13:37:00.049             2011                 9   \n",
              "4      2011-09-11 15:15:26.206             2011                 9   \n",
              "...                        ...              ...               ...   \n",
              "42360  2011-09-27 22:53:04.644             2011                 9   \n",
              "42361  2011-10-14 12:44:07.004             2011                10   \n",
              "42362  2011-10-14 12:44:07.004             2011                10   \n",
              "42363  2011-10-10 08:43:56.768             2011                10   \n",
              "42364  2011-10-04 23:55:15.853             2011                10   \n",
              "\n",
              "       click_time_day  click_time_hour  \n",
              "0                   9               17  \n",
              "1                  25               13  \n",
              "2                  25               13  \n",
              "3                  25               13  \n",
              "4                  11               15  \n",
              "...               ...              ...  \n",
              "42360              27               22  \n",
              "42361              14               12  \n",
              "42362              14               12  \n",
              "42363              10                8  \n",
              "42364               4               23  \n",
              "\n",
              "[42365 rows x 10 columns]"
            ],
            "text/html": [
              "\n",
              "  <div id=\"df-602664dd-c15f-45f8-918d-cbad6d36e6e2\">\n",
              "    <div class=\"colab-df-container\">\n",
              "      <div>\n",
              "<style scoped>\n",
              "    .dataframe tbody tr th:only-of-type {\n",
              "        vertical-align: middle;\n",
              "    }\n",
              "\n",
              "    .dataframe tbody tr th {\n",
              "        vertical-align: top;\n",
              "    }\n",
              "\n",
              "    .dataframe thead th {\n",
              "        text-align: right;\n",
              "    }\n",
              "</style>\n",
              "<table border=\"1\" class=\"dataframe\">\n",
              "  <thead>\n",
              "    <tr style=\"text-align: right;\">\n",
              "      <th></th>\n",
              "      <th>user</th>\n",
              "      <th>sku</th>\n",
              "      <th>category</th>\n",
              "      <th>query</th>\n",
              "      <th>click_time</th>\n",
              "      <th>query_time</th>\n",
              "      <th>click_time_year</th>\n",
              "      <th>click_time_month</th>\n",
              "      <th>click_time_day</th>\n",
              "      <th>click_time_hour</th>\n",
              "    </tr>\n",
              "  </thead>\n",
              "  <tbody>\n",
              "    <tr>\n",
              "      <th>0</th>\n",
              "      <td>0001cd0d10bbc585c9ba287c963e00873d4c0bfd</td>\n",
              "      <td>2032076</td>\n",
              "      <td>abcat0701002</td>\n",
              "      <td>[gears, of, war]</td>\n",
              "      <td>2011-10-09 17:22:56.101</td>\n",
              "      <td>2011-10-09 17:21:42.917</td>\n",
              "      <td>2011</td>\n",
              "      <td>10</td>\n",
              "      <td>9</td>\n",
              "      <td>17</td>\n",
              "    </tr>\n",
              "    <tr>\n",
              "      <th>1</th>\n",
              "      <td>00033dbced6acd3626c4b56ff5c55b8d69911681</td>\n",
              "      <td>9854804</td>\n",
              "      <td>abcat0701002</td>\n",
              "      <td>[gears, of, war]</td>\n",
              "      <td>2011-09-25 13:35:42.198</td>\n",
              "      <td>2011-09-25 13:35:33.234</td>\n",
              "      <td>2011</td>\n",
              "      <td>9</td>\n",
              "      <td>25</td>\n",
              "      <td>13</td>\n",
              "    </tr>\n",
              "    <tr>\n",
              "      <th>2</th>\n",
              "      <td>00033dbced6acd3626c4b56ff5c55b8d69911681</td>\n",
              "      <td>2670133</td>\n",
              "      <td>abcat0701002</td>\n",
              "      <td>[gears, of, war]</td>\n",
              "      <td>2011-09-25 13:36:08.668</td>\n",
              "      <td>2011-09-25 13:35:33.234</td>\n",
              "      <td>2011</td>\n",
              "      <td>9</td>\n",
              "      <td>25</td>\n",
              "      <td>13</td>\n",
              "    </tr>\n",
              "    <tr>\n",
              "      <th>3</th>\n",
              "      <td>00033dbced6acd3626c4b56ff5c55b8d69911681</td>\n",
              "      <td>9984142</td>\n",
              "      <td>abcat0701002</td>\n",
              "      <td>[assassin, creed]</td>\n",
              "      <td>2011-09-25 13:37:23.709</td>\n",
              "      <td>2011-09-25 13:37:00.049</td>\n",
              "      <td>2011</td>\n",
              "      <td>9</td>\n",
              "      <td>25</td>\n",
              "      <td>13</td>\n",
              "    </tr>\n",
              "    <tr>\n",
              "      <th>4</th>\n",
              "      <td>0007756f015345450f7be1df33695421466b7ce4</td>\n",
              "      <td>2541184</td>\n",
              "      <td>abcat0701002</td>\n",
              "      <td>[dead, island]</td>\n",
              "      <td>2011-09-11 15:15:34.336</td>\n",
              "      <td>2011-09-11 15:15:26.206</td>\n",
              "      <td>2011</td>\n",
              "      <td>9</td>\n",
              "      <td>11</td>\n",
              "      <td>15</td>\n",
              "    </tr>\n",
              "    <tr>\n",
              "      <th>...</th>\n",
              "      <td>...</td>\n",
              "      <td>...</td>\n",
              "      <td>...</td>\n",
              "      <td>...</td>\n",
              "      <td>...</td>\n",
              "      <td>...</td>\n",
              "      <td>...</td>\n",
              "      <td>...</td>\n",
              "      <td>...</td>\n",
              "      <td>...</td>\n",
              "    </tr>\n",
              "    <tr>\n",
              "      <th>42360</th>\n",
              "      <td>fff95d849a4d9c9946e081459471adf4a7192d79</td>\n",
              "      <td>2670133</td>\n",
              "      <td>abcat0701002</td>\n",
              "      <td>[modern, warfare, 3]</td>\n",
              "      <td>2011-09-27 22:53:29.344</td>\n",
              "      <td>2011-09-27 22:53:04.644</td>\n",
              "      <td>2011</td>\n",
              "      <td>9</td>\n",
              "      <td>27</td>\n",
              "      <td>22</td>\n",
              "    </tr>\n",
              "    <tr>\n",
              "      <th>42361</th>\n",
              "      <td>fffa393d127dec90b7eae4718535bd16be3b394d</td>\n",
              "      <td>2173065</td>\n",
              "      <td>abcat0701002</td>\n",
              "      <td>[batman]</td>\n",
              "      <td>2011-10-14 12:44:14.669</td>\n",
              "      <td>2011-10-14 12:44:07.004</td>\n",
              "      <td>2011</td>\n",
              "      <td>10</td>\n",
              "      <td>14</td>\n",
              "      <td>12</td>\n",
              "    </tr>\n",
              "    <tr>\n",
              "      <th>42362</th>\n",
              "      <td>fffa393d127dec90b7eae4718535bd16be3b394d</td>\n",
              "      <td>3046603</td>\n",
              "      <td>abcat0701002</td>\n",
              "      <td>[batman]</td>\n",
              "      <td>2011-10-14 12:44:31.228</td>\n",
              "      <td>2011-10-14 12:44:07.004</td>\n",
              "      <td>2011</td>\n",
              "      <td>10</td>\n",
              "      <td>14</td>\n",
              "      <td>12</td>\n",
              "    </tr>\n",
              "    <tr>\n",
              "      <th>42363</th>\n",
              "      <td>fffd288ec29a96dbac7356bcda0a1e9f88255a5b</td>\n",
              "      <td>2340293</td>\n",
              "      <td>abcat0701002</td>\n",
              "      <td>[360, games]</td>\n",
              "      <td>2011-10-10 08:46:10.368</td>\n",
              "      <td>2011-10-10 08:43:56.768</td>\n",
              "      <td>2011</td>\n",
              "      <td>10</td>\n",
              "      <td>10</td>\n",
              "      <td>8</td>\n",
              "    </tr>\n",
              "    <tr>\n",
              "      <th>42364</th>\n",
              "      <td>ffff8ecfaaf3f1fab67c8f6739c131ec818dd4a6</td>\n",
              "      <td>2953607</td>\n",
              "      <td>abcat0701002</td>\n",
              "      <td>[limited, edition, forza, 4]</td>\n",
              "      <td>2011-10-04 23:55:33.776</td>\n",
              "      <td>2011-10-04 23:55:15.853</td>\n",
              "      <td>2011</td>\n",
              "      <td>10</td>\n",
              "      <td>4</td>\n",
              "      <td>23</td>\n",
              "    </tr>\n",
              "  </tbody>\n",
              "</table>\n",
              "<p>42365 rows × 10 columns</p>\n",
              "</div>\n",
              "      <button class=\"colab-df-convert\" onclick=\"convertToInteractive('df-602664dd-c15f-45f8-918d-cbad6d36e6e2')\"\n",
              "              title=\"Convert this dataframe to an interactive table.\"\n",
              "              style=\"display:none;\">\n",
              "        \n",
              "  <svg xmlns=\"http://www.w3.org/2000/svg\" height=\"24px\"viewBox=\"0 0 24 24\"\n",
              "       width=\"24px\">\n",
              "    <path d=\"M0 0h24v24H0V0z\" fill=\"none\"/>\n",
              "    <path d=\"M18.56 5.44l.94 2.06.94-2.06 2.06-.94-2.06-.94-.94-2.06-.94 2.06-2.06.94zm-11 1L8.5 8.5l.94-2.06 2.06-.94-2.06-.94L8.5 2.5l-.94 2.06-2.06.94zm10 10l.94 2.06.94-2.06 2.06-.94-2.06-.94-.94-2.06-.94 2.06-2.06.94z\"/><path d=\"M17.41 7.96l-1.37-1.37c-.4-.4-.92-.59-1.43-.59-.52 0-1.04.2-1.43.59L10.3 9.45l-7.72 7.72c-.78.78-.78 2.05 0 2.83L4 21.41c.39.39.9.59 1.41.59.51 0 1.02-.2 1.41-.59l7.78-7.78 2.81-2.81c.8-.78.8-2.07 0-2.86zM5.41 20L4 18.59l7.72-7.72 1.47 1.35L5.41 20z\"/>\n",
              "  </svg>\n",
              "      </button>\n",
              "      \n",
              "  <style>\n",
              "    .colab-df-container {\n",
              "      display:flex;\n",
              "      flex-wrap:wrap;\n",
              "      gap: 12px;\n",
              "    }\n",
              "\n",
              "    .colab-df-convert {\n",
              "      background-color: #E8F0FE;\n",
              "      border: none;\n",
              "      border-radius: 50%;\n",
              "      cursor: pointer;\n",
              "      display: none;\n",
              "      fill: #1967D2;\n",
              "      height: 32px;\n",
              "      padding: 0 0 0 0;\n",
              "      width: 32px;\n",
              "    }\n",
              "\n",
              "    .colab-df-convert:hover {\n",
              "      background-color: #E2EBFA;\n",
              "      box-shadow: 0px 1px 2px rgba(60, 64, 67, 0.3), 0px 1px 3px 1px rgba(60, 64, 67, 0.15);\n",
              "      fill: #174EA6;\n",
              "    }\n",
              "\n",
              "    [theme=dark] .colab-df-convert {\n",
              "      background-color: #3B4455;\n",
              "      fill: #D2E3FC;\n",
              "    }\n",
              "\n",
              "    [theme=dark] .colab-df-convert:hover {\n",
              "      background-color: #434B5C;\n",
              "      box-shadow: 0px 1px 3px 1px rgba(0, 0, 0, 0.15);\n",
              "      filter: drop-shadow(0px 1px 2px rgba(0, 0, 0, 0.3));\n",
              "      fill: #FFFFFF;\n",
              "    }\n",
              "  </style>\n",
              "\n",
              "      <script>\n",
              "        const buttonEl =\n",
              "          document.querySelector('#df-602664dd-c15f-45f8-918d-cbad6d36e6e2 button.colab-df-convert');\n",
              "        buttonEl.style.display =\n",
              "          google.colab.kernel.accessAllowed ? 'block' : 'none';\n",
              "\n",
              "        async function convertToInteractive(key) {\n",
              "          const element = document.querySelector('#df-602664dd-c15f-45f8-918d-cbad6d36e6e2');\n",
              "          const dataTable =\n",
              "            await google.colab.kernel.invokeFunction('convertToInteractive',\n",
              "                                                     [key], {});\n",
              "          if (!dataTable) return;\n",
              "\n",
              "          const docLinkHtml = 'Like what you see? Visit the ' +\n",
              "            '<a target=\"_blank\" href=https://colab.research.google.com/notebooks/data_table.ipynb>data table notebook</a>'\n",
              "            + ' to learn more about interactive tables.';\n",
              "          element.innerHTML = '';\n",
              "          dataTable['output_type'] = 'display_data';\n",
              "          await google.colab.output.renderOutput(dataTable, element);\n",
              "          const docLink = document.createElement('div');\n",
              "          docLink.innerHTML = docLinkHtml;\n",
              "          element.appendChild(docLink);\n",
              "        }\n",
              "      </script>\n",
              "    </div>\n",
              "  </div>\n",
              "  "
            ]
          },
          "metadata": {},
          "execution_count": 16
        }
      ]
    },
    {
      "cell_type": "code",
      "source": [
        "train_data[\"click_time_hour\"].value_counts()"
      ],
      "metadata": {
        "colab": {
          "base_uri": "https://localhost:8080/"
        },
        "id": "nvSMwwWk6550",
        "outputId": "bff4064f-86d6-47f4-f995-1d1f475414de"
      },
      "execution_count": null,
      "outputs": [
        {
          "output_type": "execute_result",
          "data": {
            "text/plain": [
              "23    2884\n",
              "22    2693\n",
              "18    2588\n",
              "16    2572\n",
              "17    2544\n",
              "15    2472\n",
              "13    2397\n",
              "12    2348\n",
              "14    2348\n",
              "20    2323\n",
              "21    2290\n",
              "19    2220\n",
              "11    2115\n",
              "0     1974\n",
              "10    1818\n",
              "9     1645\n",
              "8     1307\n",
              "7      821\n",
              "1      781\n",
              "2      567\n",
              "6      560\n",
              "3      411\n",
              "5      364\n",
              "4      323\n",
              "Name: click_time_hour, dtype: int64"
            ]
          },
          "metadata": {},
          "execution_count": 55
        }
      ]
    },
    {
      "cell_type": "code",
      "source": [
        "corr_matrix = train_data.corr()"
      ],
      "metadata": {
        "id": "tJtYfkKl8iWJ"
      },
      "execution_count": null,
      "outputs": []
    },
    {
      "cell_type": "code",
      "source": [
        "sns.heatmap(corr_matrix, annot=True)\n",
        "plt.show()"
      ],
      "metadata": {
        "colab": {
          "base_uri": "https://localhost:8080/",
          "height": 347
        },
        "id": "WuJIiRm38neX",
        "outputId": "01fdee45-7465-4a5e-98b1-64be1f9d7a73"
      },
      "execution_count": null,
      "outputs": [
        {
          "output_type": "display_data",
          "data": {
            "text/plain": [
              "<Figure size 432x288 with 2 Axes>"
            ],
            "image/png": "[encoded data removed]"
          },
          "metadata": {
            "needs_background": "light"
          }
        }
      ]
    },
    {
      "cell_type": "code",
      "source": [
        "import nltk\n",
        "nltk.download('stopwords')\n",
        "from nltk.corpus import stopwords\n",
        "stopwords_eng = stopwords.words('english')\n",
        "new_titles_sub = []\n",
        "for title_sub in train_data['query']:\n",
        "    new_title_sub = []\n",
        "    for w_title in title_sub:\n",
        "        if w_title not in stopwords_eng and not w_title.isdigit():\n",
        "            new_title_sub.append(w_title)\n",
        "\n",
        "    new_titles_sub.append(new_title_sub)\n",
        "\n",
        "train_data['new_query'] = new_titles_sub"
      ],
      "metadata": {
        "colab": {
          "base_uri": "https://localhost:8080/"
        },
        "id": "Cl4c5QHq9rUG",
        "outputId": "7539c263-be57-4708-fb86-763740a92480"
      },
      "execution_count": null,
      "outputs": [
        {
          "output_type": "stream",
          "name": "stderr",
          "text": [
            "[nltk_data] Downloading package stopwords to /root/nltk_data...\n",
            "[nltk_data]   Package stopwords is already up-to-date!\n"
          ]
        }
      ]
    },
    {
      "cell_type": "code",
      "source": [
        "nltk.download('wordnet')\n",
        "nltk.download('words')\n",
        "nltk.download('omw-1.4')\n",
        "from nltk.stem import WordNetLemmatizer\n",
        "wordnet_lemmatizer = WordNetLemmatizer()\n",
        "new_titles_sub = []\n",
        "for title_sub in train_data['new_query']:\n",
        "    new_title_sub = []\n",
        "    for w_title in title_sub:\n",
        "        new_title_sub.append(wordnet_lemmatizer.lemmatize(w_title, pos=\"v\"))\n",
        "    new_titles_sub.append(new_title_sub)\n",
        "\n",
        "train_data['new_query'] = new_titles_sub\n",
        "train_data['new_query'] = [' '.join(i) for i in train_data['new_query']]"
      ],
      "metadata": {
        "colab": {
          "base_uri": "https://localhost:8080/"
        },
        "id": "qMxYztUs9y1T",
        "outputId": "a705efc7-4df1-4298-c3f1-55069504085c"
      },
      "execution_count": null,
      "outputs": [
        {
          "output_type": "stream",
          "name": "stderr",
          "text": [
            "[nltk_data] Downloading package wordnet to /root/nltk_data...\n",
            "[nltk_data] Downloading package words to /root/nltk_data...\n",
            "[nltk_data]   Unzipping corpora/words.zip.\n",
            "[nltk_data] Downloading package omw-1.4 to /root/nltk_data...\n"
          ]
        }
      ]
    },
    {
      "cell_type": "code",
      "source": [
        "train_data"
      ],
      "metadata": {
        "colab": {
          "base_uri": "https://localhost:8080/",
          "height": 696
        },
        "id": "36zZT9ci95bH",
        "outputId": "0d229dc2-764c-4658-9222-0347ce4dfc52"
      },
      "execution_count": null,
      "outputs": [
        {
          "output_type": "execute_result",
          "data": {
            "text/plain": [
              "                                           user      sku      category  \\\n",
              "0      0001cd0d10bbc585c9ba287c963e00873d4c0bfd  2032076  abcat0701002   \n",
              "1      00033dbced6acd3626c4b56ff5c55b8d69911681  9854804  abcat0701002   \n",
              "2      00033dbced6acd3626c4b56ff5c55b8d69911681  2670133  abcat0701002   \n",
              "3      00033dbced6acd3626c4b56ff5c55b8d69911681  9984142  abcat0701002   \n",
              "4      0007756f015345450f7be1df33695421466b7ce4  2541184  abcat0701002   \n",
              "...                                         ...      ...           ...   \n",
              "42360  fff95d849a4d9c9946e081459471adf4a7192d79  2670133  abcat0701002   \n",
              "42361  fffa393d127dec90b7eae4718535bd16be3b394d  2173065  abcat0701002   \n",
              "42362  fffa393d127dec90b7eae4718535bd16be3b394d  3046603  abcat0701002   \n",
              "42363  fffd288ec29a96dbac7356bcda0a1e9f88255a5b  2340293  abcat0701002   \n",
              "42364  ffff8ecfaaf3f1fab67c8f6739c131ec818dd4a6  2953607  abcat0701002   \n",
              "\n",
              "                              query              click_time  \\\n",
              "0                  [gears, of, war] 2011-10-09 17:22:56.101   \n",
              "1                  [gears, of, war] 2011-09-25 13:35:42.198   \n",
              "2                  [gears, of, war] 2011-09-25 13:36:08.668   \n",
              "3                 [assassin, creed] 2011-09-25 13:37:23.709   \n",
              "4                    [dead, island] 2011-09-11 15:15:34.336   \n",
              "...                             ...                     ...   \n",
              "42360          [modern, warfare, 3] 2011-09-27 22:53:29.344   \n",
              "42361                      [batman] 2011-10-14 12:44:14.669   \n",
              "42362                      [batman] 2011-10-14 12:44:31.228   \n",
              "42363                  [360, games] 2011-10-10 08:46:10.368   \n",
              "42364  [limited, edition, forza, 4] 2011-10-04 23:55:33.776   \n",
              "\n",
              "                    query_time  click_time_year  click_time_month  \\\n",
              "0      2011-10-09 17:21:42.917             2011                10   \n",
              "1      2011-09-25 13:35:33.234             2011                 9   \n",
              "2      2011-09-25 13:35:33.234             2011                 9   \n",
              "3      2011-09-25 13:37:00.049             2011                 9   \n",
              "4      2011-09-11 15:15:26.206             2011                 9   \n",
              "...                        ...              ...               ...   \n",
              "42360  2011-09-27 22:53:04.644             2011                 9   \n",
              "42361  2011-10-14 12:44:07.004             2011                10   \n",
              "42362  2011-10-14 12:44:07.004             2011                10   \n",
              "42363  2011-10-10 08:43:56.768             2011                10   \n",
              "42364  2011-10-04 23:55:15.853             2011                10   \n",
              "\n",
              "       click_time_day  click_time_hour            new_query  \n",
              "0                   9               17             gear war  \n",
              "1                  25               13             gear war  \n",
              "2                  25               13             gear war  \n",
              "3                  25               13       assassin creed  \n",
              "4                  11               15          dead island  \n",
              "...               ...              ...                  ...  \n",
              "42360              27               22       modern warfare  \n",
              "42361              14               12               batman  \n",
              "42362              14               12               batman  \n",
              "42363              10                8                 game  \n",
              "42364               4               23  limit edition forza  \n",
              "\n",
              "[42365 rows x 11 columns]"
            ],
            "text/html": [
              "\n",
              "  <div id=\"df-321ec123-84de-4471-b91c-edf2341b673a\">\n",
              "    <div class=\"colab-df-container\">\n",
              "      <div>\n",
              "<style scoped>\n",
              "    .dataframe tbody tr th:only-of-type {\n",
              "        vertical-align: middle;\n",
              "    }\n",
              "\n",
              "    .dataframe tbody tr th {\n",
              "        vertical-align: top;\n",
              "    }\n",
              "\n",
              "    .dataframe thead th {\n",
              "        text-align: right;\n",
              "    }\n",
              "</style>\n",
              "<table border=\"1\" class=\"dataframe\">\n",
              "  <thead>\n",
              "    <tr style=\"text-align: right;\">\n",
              "      <th></th>\n",
              "      <th>user</th>\n",
              "      <th>sku</th>\n",
              "      <th>category</th>\n",
              "      <th>query</th>\n",
              "      <th>click_time</th>\n",
              "      <th>query_time</th>\n",
              "      <th>click_time_year</th>\n",
              "      <th>click_time_month</th>\n",
              "      <th>click_time_day</th>\n",
              "      <th>click_time_hour</th>\n",
              "      <th>new_query</th>\n",
              "    </tr>\n",
              "  </thead>\n",
              "  <tbody>\n",
              "    <tr>\n",
              "      <th>0</th>\n",
              "      <td>0001cd0d10bbc585c9ba287c963e00873d4c0bfd</td>\n",
              "      <td>2032076</td>\n",
              "      <td>abcat0701002</td>\n",
              "      <td>[gears, of, war]</td>\n",
              "      <td>2011-10-09 17:22:56.101</td>\n",
              "      <td>2011-10-09 17:21:42.917</td>\n",
              "      <td>2011</td>\n",
              "      <td>10</td>\n",
              "      <td>9</td>\n",
              "      <td>17</td>\n",
              "      <td>gear war</td>\n",
              "    </tr>\n",
              "    <tr>\n",
              "      <th>1</th>\n",
              "      <td>00033dbced6acd3626c4b56ff5c55b8d69911681</td>\n",
              "      <td>9854804</td>\n",
              "      <td>abcat0701002</td>\n",
              "      <td>[gears, of, war]</td>\n",
              "      <td>2011-09-25 13:35:42.198</td>\n",
              "      <td>2011-09-25 13:35:33.234</td>\n",
              "      <td>2011</td>\n",
              "      <td>9</td>\n",
              "      <td>25</td>\n",
              "      <td>13</td>\n",
              "      <td>gear war</td>\n",
              "    </tr>\n",
              "    <tr>\n",
              "      <th>2</th>\n",
              "      <td>00033dbced6acd3626c4b56ff5c55b8d69911681</td>\n",
              "      <td>2670133</td>\n",
              "      <td>abcat0701002</td>\n",
              "      <td>[gears, of, war]</td>\n",
              "      <td>2011-09-25 13:36:08.668</td>\n",
              "      <td>2011-09-25 13:35:33.234</td>\n",
              "      <td>2011</td>\n",
              "      <td>9</td>\n",
              "      <td>25</td>\n",
              "      <td>13</td>\n",
              "      <td>gear war</td>\n",
              "    </tr>\n",
              "    <tr>\n",
              "      <th>3</th>\n",
              "      <td>00033dbced6acd3626c4b56ff5c55b8d69911681</td>\n",
              "      <td>9984142</td>\n",
              "      <td>abcat0701002</td>\n",
              "      <td>[assassin, creed]</td>\n",
              "      <td>2011-09-25 13:37:23.709</td>\n",
              "      <td>2011-09-25 13:37:00.049</td>\n",
              "      <td>2011</td>\n",
              "      <td>9</td>\n",
              "      <td>25</td>\n",
              "      <td>13</td>\n",
              "      <td>assassin creed</td>\n",
              "    </tr>\n",
              "    <tr>\n",
              "      <th>4</th>\n",
              "      <td>0007756f015345450f7be1df33695421466b7ce4</td>\n",
              "      <td>2541184</td>\n",
              "      <td>abcat0701002</td>\n",
              "      <td>[dead, island]</td>\n",
              "      <td>2011-09-11 15:15:34.336</td>\n",
              "      <td>2011-09-11 15:15:26.206</td>\n",
              "      <td>2011</td>\n",
              "      <td>9</td>\n",
              "      <td>11</td>\n",
              "      <td>15</td>\n",
              "      <td>dead island</td>\n",
              "    </tr>\n",
              "    <tr>\n",
              "      <th>...</th>\n",
              "      <td>...</td>\n",
              "      <td>...</td>\n",
              "      <td>...</td>\n",
              "      <td>...</td>\n",
              "      <td>...</td>\n",
              "      <td>...</td>\n",
              "      <td>...</td>\n",
              "      <td>...</td>\n",
              "      <td>...</td>\n",
              "      <td>...</td>\n",
              "      <td>...</td>\n",
              "    </tr>\n",
              "    <tr>\n",
              "      <th>42360</th>\n",
              "      <td>fff95d849a4d9c9946e081459471adf4a7192d79</td>\n",
              "      <td>2670133</td>\n",
              "      <td>abcat0701002</td>\n",
              "      <td>[modern, warfare, 3]</td>\n",
              "      <td>2011-09-27 22:53:29.344</td>\n",
              "      <td>2011-09-27 22:53:04.644</td>\n",
              "      <td>2011</td>\n",
              "      <td>9</td>\n",
              "      <td>27</td>\n",
              "      <td>22</td>\n",
              "      <td>modern warfare</td>\n",
              "    </tr>\n",
              "    <tr>\n",
              "      <th>42361</th>\n",
              "      <td>fffa393d127dec90b7eae4718535bd16be3b394d</td>\n",
              "      <td>2173065</td>\n",
              "      <td>abcat0701002</td>\n",
              "      <td>[batman]</td>\n",
              "      <td>2011-10-14 12:44:14.669</td>\n",
              "      <td>2011-10-14 12:44:07.004</td>\n",
              "      <td>2011</td>\n",
              "      <td>10</td>\n",
              "      <td>14</td>\n",
              "      <td>12</td>\n",
              "      <td>batman</td>\n",
              "    </tr>\n",
              "    <tr>\n",
              "      <th>42362</th>\n",
              "      <td>fffa393d127dec90b7eae4718535bd16be3b394d</td>\n",
              "      <td>3046603</td>\n",
              "      <td>abcat0701002</td>\n",
              "      <td>[batman]</td>\n",
              "      <td>2011-10-14 12:44:31.228</td>\n",
              "      <td>2011-10-14 12:44:07.004</td>\n",
              "      <td>2011</td>\n",
              "      <td>10</td>\n",
              "      <td>14</td>\n",
              "      <td>12</td>\n",
              "      <td>batman</td>\n",
              "    </tr>\n",
              "    <tr>\n",
              "      <th>42363</th>\n",
              "      <td>fffd288ec29a96dbac7356bcda0a1e9f88255a5b</td>\n",
              "      <td>2340293</td>\n",
              "      <td>abcat0701002</td>\n",
              "      <td>[360, games]</td>\n",
              "      <td>2011-10-10 08:46:10.368</td>\n",
              "      <td>2011-10-10 08:43:56.768</td>\n",
              "      <td>2011</td>\n",
              "      <td>10</td>\n",
              "      <td>10</td>\n",
              "      <td>8</td>\n",
              "      <td>game</td>\n",
              "    </tr>\n",
              "    <tr>\n",
              "      <th>42364</th>\n",
              "      <td>ffff8ecfaaf3f1fab67c8f6739c131ec818dd4a6</td>\n",
              "      <td>2953607</td>\n",
              "      <td>abcat0701002</td>\n",
              "      <td>[limited, edition, forza, 4]</td>\n",
              "      <td>2011-10-04 23:55:33.776</td>\n",
              "      <td>2011-10-04 23:55:15.853</td>\n",
              "      <td>2011</td>\n",
              "      <td>10</td>\n",
              "      <td>4</td>\n",
              "      <td>23</td>\n",
              "      <td>limit edition forza</td>\n",
              "    </tr>\n",
              "  </tbody>\n",
              "</table>\n",
              "<p>42365 rows × 11 columns</p>\n",
              "</div>\n",
              "      <button class=\"colab-df-convert\" onclick=\"convertToInteractive('df-321ec123-84de-4471-b91c-edf2341b673a')\"\n",
              "              title=\"Convert this dataframe to an interactive table.\"\n",
              "              style=\"display:none;\">\n",
              "        \n",
              "  <svg xmlns=\"http://www.w3.org/2000/svg\" height=\"24px\"viewBox=\"0 0 24 24\"\n",
              "       width=\"24px\">\n",
              "    <path d=\"M0 0h24v24H0V0z\" fill=\"none\"/>\n",
              "    <path d=\"M18.56 5.44l.94 2.06.94-2.06 2.06-.94-2.06-.94-.94-2.06-.94 2.06-2.06.94zm-11 1L8.5 8.5l.94-2.06 2.06-.94-2.06-.94L8.5 2.5l-.94 2.06-2.06.94zm10 10l.94 2.06.94-2.06 2.06-.94-2.06-.94-.94-2.06-.94 2.06-2.06.94z\"/><path d=\"M17.41 7.96l-1.37-1.37c-.4-.4-.92-.59-1.43-.59-.52 0-1.04.2-1.43.59L10.3 9.45l-7.72 7.72c-.78.78-.78 2.05 0 2.83L4 21.41c.39.39.9.59 1.41.59.51 0 1.02-.2 1.41-.59l7.78-7.78 2.81-2.81c.8-.78.8-2.07 0-2.86zM5.41 20L4 18.59l7.72-7.72 1.47 1.35L5.41 20z\"/>\n",
              "  </svg>\n",
              "      </button>\n",
              "      \n",
              "  <style>\n",
              "    .colab-df-container {\n",
              "      display:flex;\n",
              "      flex-wrap:wrap;\n",
              "      gap: 12px;\n",
              "    }\n",
              "\n",
              "    .colab-df-convert {\n",
              "      background-color: #E8F0FE;\n",
              "      border: none;\n",
              "      border-radius: 50%;\n",
              "      cursor: pointer;\n",
              "      display: none;\n",
              "      fill: #1967D2;\n",
              "      height: 32px;\n",
              "      padding: 0 0 0 0;\n",
              "      width: 32px;\n",
              "    }\n",
              "\n",
              "    .colab-df-convert:hover {\n",
              "      background-color: #E2EBFA;\n",
              "      box-shadow: 0px 1px 2px rgba(60, 64, 67, 0.3), 0px 1px 3px 1px rgba(60, 64, 67, 0.15);\n",
              "      fill: #174EA6;\n",
              "    }\n",
              "\n",
              "    [theme=dark] .colab-df-convert {\n",
              "      background-color: #3B4455;\n",
              "      fill: #D2E3FC;\n",
              "    }\n",
              "\n",
              "    [theme=dark] .colab-df-convert:hover {\n",
              "      background-color: #434B5C;\n",
              "      box-shadow: 0px 1px 3px 1px rgba(0, 0, 0, 0.15);\n",
              "      filter: drop-shadow(0px 1px 2px rgba(0, 0, 0, 0.3));\n",
              "      fill: #FFFFFF;\n",
              "    }\n",
              "  </style>\n",
              "\n",
              "      <script>\n",
              "        const buttonEl =\n",
              "          document.querySelector('#df-321ec123-84de-4471-b91c-edf2341b673a button.colab-df-convert');\n",
              "        buttonEl.style.display =\n",
              "          google.colab.kernel.accessAllowed ? 'block' : 'none';\n",
              "\n",
              "        async function convertToInteractive(key) {\n",
              "          const element = document.querySelector('#df-321ec123-84de-4471-b91c-edf2341b673a');\n",
              "          const dataTable =\n",
              "            await google.colab.kernel.invokeFunction('convertToInteractive',\n",
              "                                                     [key], {});\n",
              "          if (!dataTable) return;\n",
              "\n",
              "          const docLinkHtml = 'Like what you see? Visit the ' +\n",
              "            '<a target=\"_blank\" href=https://colab.research.google.com/notebooks/data_table.ipynb>data table notebook</a>'\n",
              "            + ' to learn more about interactive tables.';\n",
              "          element.innerHTML = '';\n",
              "          dataTable['output_type'] = 'display_data';\n",
              "          await google.colab.output.renderOutput(dataTable, element);\n",
              "          const docLink = document.createElement('div');\n",
              "          docLink.innerHTML = docLinkHtml;\n",
              "          element.appendChild(docLink);\n",
              "        }\n",
              "      </script>\n",
              "    </div>\n",
              "  </div>\n",
              "  "
            ]
          },
          "metadata": {},
          "execution_count": 20
        }
      ]
    },
    {
      "cell_type": "markdown",
      "source": [
        "#Testing Model with different Features"
      ],
      "metadata": {
        "id": "JF4_Tclo29qZ"
      }
    },
    {
      "cell_type": "code",
      "source": [
        "#half_df = train_data.sample(frac=0.01)"
      ],
      "metadata": {
        "id": "E2o4Kw6NYl65"
      },
      "execution_count": null,
      "outputs": []
    },
    {
      "cell_type": "code",
      "execution_count": null,
      "metadata": {
        "id": "pru1mnGLiubb"
      },
      "outputs": [],
      "source": [
        "X = train_data.drop(['user', 'sku', 'category', 'query_time', 'click_time', 'click_time_year', 'query'],axis=1)\n",
        "y = train_data['sku']"
      ]
    },
    {
      "cell_type": "code",
      "source": [
        "X = train_data[['click_time_month' , 'sku']].iloc[: , :].values\n",
        "y = train_data['sku']"
      ],
      "metadata": {
        "id": "lKH3IPung6rF"
      },
      "execution_count": null,
      "outputs": []
    },
    {
      "cell_type": "code",
      "source": [
        "train_data.iloc[:, 8]"
      ],
      "metadata": {
        "colab": {
          "base_uri": "https://localhost:8080/"
        },
        "id": "n0TyKYIyhVFl",
        "outputId": "f961ee12-6105-4f20-9050-c1af4933f8b0"
      },
      "execution_count": null,
      "outputs": [
        {
          "output_type": "execute_result",
          "data": {
            "text/plain": [
              "0         9\n",
              "1        25\n",
              "2        25\n",
              "3        25\n",
              "4        11\n",
              "         ..\n",
              "42360    27\n",
              "42361    14\n",
              "42362    14\n",
              "42363    10\n",
              "42364     4\n",
              "Name: click_time_day, Length: 42365, dtype: int64"
            ]
          },
          "metadata": {},
          "execution_count": 114
        }
      ]
    },
    {
      "cell_type": "code",
      "execution_count": null,
      "metadata": {
        "colab": {
          "base_uri": "https://localhost:8080/",
          "height": 363
        },
        "id": "l7Z5fkyMiubb",
        "outputId": "7db19b60-8b5a-4899-d8f8-414536613333"
      },
      "outputs": [
        {
          "output_type": "execute_result",
          "data": {
            "text/plain": [
              "   click_time_month  click_time_day  click_time_hour       new_query\n",
              "0                10               9               17        gear war\n",
              "1                 9              25               13        gear war\n",
              "2                 9              25               13        gear war\n",
              "3                 9              25               13  assassin creed\n",
              "4                 9              11               15     dead island\n",
              "5                10              25               20       rocksmith\n",
              "6                10              29               20         nba n2k\n",
              "7                 8              12               18       call duty\n",
              "8                10               7                0       rock band\n",
              "9                 9              30                8            xbox"
            ],
            "text/html": [
              "\n",
              "  <div id=\"df-2fdaeb6c-545b-4c2c-8dc1-117243ebaa0b\">\n",
              "    <div class=\"colab-df-container\">\n",
              "      <div>\n",
              "<style scoped>\n",
              "    .dataframe tbody tr th:only-of-type {\n",
              "        vertical-align: middle;\n",
              "    }\n",
              "\n",
              "    .dataframe tbody tr th {\n",
              "        vertical-align: top;\n",
              "    }\n",
              "\n",
              "    .dataframe thead th {\n",
              "        text-align: right;\n",
              "    }\n",
              "</style>\n",
              "<table border=\"1\" class=\"dataframe\">\n",
              "  <thead>\n",
              "    <tr style=\"text-align: right;\">\n",
              "      <th></th>\n",
              "      <th>click_time_month</th>\n",
              "      <th>click_time_day</th>\n",
              "      <th>click_time_hour</th>\n",
              "      <th>new_query</th>\n",
              "    </tr>\n",
              "  </thead>\n",
              "  <tbody>\n",
              "    <tr>\n",
              "      <th>0</th>\n",
              "      <td>10</td>\n",
              "      <td>9</td>\n",
              "      <td>17</td>\n",
              "      <td>gear war</td>\n",
              "    </tr>\n",
              "    <tr>\n",
              "      <th>1</th>\n",
              "      <td>9</td>\n",
              "      <td>25</td>\n",
              "      <td>13</td>\n",
              "      <td>gear war</td>\n",
              "    </tr>\n",
              "    <tr>\n",
              "      <th>2</th>\n",
              "      <td>9</td>\n",
              "      <td>25</td>\n",
              "      <td>13</td>\n",
              "      <td>gear war</td>\n",
              "    </tr>\n",
              "    <tr>\n",
              "      <th>3</th>\n",
              "      <td>9</td>\n",
              "      <td>25</td>\n",
              "      <td>13</td>\n",
              "      <td>assassin creed</td>\n",
              "    </tr>\n",
              "    <tr>\n",
              "      <th>4</th>\n",
              "      <td>9</td>\n",
              "      <td>11</td>\n",
              "      <td>15</td>\n",
              "      <td>dead island</td>\n",
              "    </tr>\n",
              "    <tr>\n",
              "      <th>5</th>\n",
              "      <td>10</td>\n",
              "      <td>25</td>\n",
              "      <td>20</td>\n",
              "      <td>rocksmith</td>\n",
              "    </tr>\n",
              "    <tr>\n",
              "      <th>6</th>\n",
              "      <td>10</td>\n",
              "      <td>29</td>\n",
              "      <td>20</td>\n",
              "      <td>nba n2k</td>\n",
              "    </tr>\n",
              "    <tr>\n",
              "      <th>7</th>\n",
              "      <td>8</td>\n",
              "      <td>12</td>\n",
              "      <td>18</td>\n",
              "      <td>call duty</td>\n",
              "    </tr>\n",
              "    <tr>\n",
              "      <th>8</th>\n",
              "      <td>10</td>\n",
              "      <td>7</td>\n",
              "      <td>0</td>\n",
              "      <td>rock band</td>\n",
              "    </tr>\n",
              "    <tr>\n",
              "      <th>9</th>\n",
              "      <td>9</td>\n",
              "      <td>30</td>\n",
              "      <td>8</td>\n",
              "      <td>xbox</td>\n",
              "    </tr>\n",
              "  </tbody>\n",
              "</table>\n",
              "</div>\n",
              "      <button class=\"colab-df-convert\" onclick=\"convertToInteractive('df-2fdaeb6c-545b-4c2c-8dc1-117243ebaa0b')\"\n",
              "              title=\"Convert this dataframe to an interactive table.\"\n",
              "              style=\"display:none;\">\n",
              "        \n",
              "  <svg xmlns=\"http://www.w3.org/2000/svg\" height=\"24px\"viewBox=\"0 0 24 24\"\n",
              "       width=\"24px\">\n",
              "    <path d=\"M0 0h24v24H0V0z\" fill=\"none\"/>\n",
              "    <path d=\"M18.56 5.44l.94 2.06.94-2.06 2.06-.94-2.06-.94-.94-2.06-.94 2.06-2.06.94zm-11 1L8.5 8.5l.94-2.06 2.06-.94-2.06-.94L8.5 2.5l-.94 2.06-2.06.94zm10 10l.94 2.06.94-2.06 2.06-.94-2.06-.94-.94-2.06-.94 2.06-2.06.94z\"/><path d=\"M17.41 7.96l-1.37-1.37c-.4-.4-.92-.59-1.43-.59-.52 0-1.04.2-1.43.59L10.3 9.45l-7.72 7.72c-.78.78-.78 2.05 0 2.83L4 21.41c.39.39.9.59 1.41.59.51 0 1.02-.2 1.41-.59l7.78-7.78 2.81-2.81c.8-.78.8-2.07 0-2.86zM5.41 20L4 18.59l7.72-7.72 1.47 1.35L5.41 20z\"/>\n",
              "  </svg>\n",
              "      </button>\n",
              "      \n",
              "  <style>\n",
              "    .colab-df-container {\n",
              "      display:flex;\n",
              "      flex-wrap:wrap;\n",
              "      gap: 12px;\n",
              "    }\n",
              "\n",
              "    .colab-df-convert {\n",
              "      background-color: #E8F0FE;\n",
              "      border: none;\n",
              "      border-radius: 50%;\n",
              "      cursor: pointer;\n",
              "      display: none;\n",
              "      fill: #1967D2;\n",
              "      height: 32px;\n",
              "      padding: 0 0 0 0;\n",
              "      width: 32px;\n",
              "    }\n",
              "\n",
              "    .colab-df-convert:hover {\n",
              "      background-color: #E2EBFA;\n",
              "      box-shadow: 0px 1px 2px rgba(60, 64, 67, 0.3), 0px 1px 3px 1px rgba(60, 64, 67, 0.15);\n",
              "      fill: #174EA6;\n",
              "    }\n",
              "\n",
              "    [theme=dark] .colab-df-convert {\n",
              "      background-color: #3B4455;\n",
              "      fill: #D2E3FC;\n",
              "    }\n",
              "\n",
              "    [theme=dark] .colab-df-convert:hover {\n",
              "      background-color: #434B5C;\n",
              "      box-shadow: 0px 1px 3px 1px rgba(0, 0, 0, 0.15);\n",
              "      filter: drop-shadow(0px 1px 2px rgba(0, 0, 0, 0.3));\n",
              "      fill: #FFFFFF;\n",
              "    }\n",
              "  </style>\n",
              "\n",
              "      <script>\n",
              "        const buttonEl =\n",
              "          document.querySelector('#df-2fdaeb6c-545b-4c2c-8dc1-117243ebaa0b button.colab-df-convert');\n",
              "        buttonEl.style.display =\n",
              "          google.colab.kernel.accessAllowed ? 'block' : 'none';\n",
              "\n",
              "        async function convertToInteractive(key) {\n",
              "          const element = document.querySelector('#df-2fdaeb6c-545b-4c2c-8dc1-117243ebaa0b');\n",
              "          const dataTable =\n",
              "            await google.colab.kernel.invokeFunction('convertToInteractive',\n",
              "                                                     [key], {});\n",
              "          if (!dataTable) return;\n",
              "\n",
              "          const docLinkHtml = 'Like what you see? Visit the ' +\n",
              "            '<a target=\"_blank\" href=https://colab.research.google.com/notebooks/data_table.ipynb>data table notebook</a>'\n",
              "            + ' to learn more about interactive tables.';\n",
              "          element.innerHTML = '';\n",
              "          dataTable['output_type'] = 'display_data';\n",
              "          await google.colab.output.renderOutput(dataTable, element);\n",
              "          const docLink = document.createElement('div');\n",
              "          docLink.innerHTML = docLinkHtml;\n",
              "          element.appendChild(docLink);\n",
              "        }\n",
              "      </script>\n",
              "    </div>\n",
              "  </div>\n",
              "  "
            ]
          },
          "metadata": {},
          "execution_count": 22
        }
      ],
      "source": [
        "X.head(10)"
      ]
    },
    {
      "cell_type": "code",
      "execution_count": null,
      "metadata": {
        "colab": {
          "base_uri": "https://localhost:8080/"
        },
        "id": "pBlI67dviubc",
        "outputId": "b17898c4-2af3-4005-c523-c65b850a61ac"
      },
      "outputs": [
        {
          "output_type": "stream",
          "name": "stdout",
          "text": [
            "No.of.unique values : 413\n"
          ]
        }
      ],
      "source": [
        "n = len(pd.unique(y))\n",
        "\n",
        "print(\"No.of.unique values :\",\n",
        "      n)"
      ]
    },
    {
      "cell_type": "code",
      "execution_count": null,
      "metadata": {
        "colab": {
          "base_uri": "https://localhost:8080/"
        },
        "id": "37mVtoiOiubd",
        "outputId": "68eec560-f053-46ea-ab7d-ec3905830711"
      },
      "outputs": [
        {
          "output_type": "stream",
          "name": "stdout",
          "text": [
            "42365\n",
            "-----------\n",
            "0        2032076\n",
            "1        9854804\n",
            "2        2670133\n",
            "3        9984142\n",
            "4        2541184\n",
            "          ...   \n",
            "42360    2670133\n",
            "42361    2173065\n",
            "42362    3046603\n",
            "42363    2340293\n",
            "42364    2953607\n",
            "Name: sku, Length: 42365, dtype: int64\n"
          ]
        }
      ],
      "source": [
        "print(len(y))\n",
        "print('-----------')\n",
        "print(y)\n",
        "\n",
        "\n"
      ]
    },
    {
      "cell_type": "code",
      "execution_count": null,
      "metadata": {
        "id": "ox09DgwAiube"
      },
      "outputs": [],
      "source": [
        "#from datetime import datetime\n",
        "\n",
        "#X.click_time = X[['click_time']].transform(lambda x: x + '.' + '0' * 6 if len(x) == 19  else x + (26 - len(x)) * '0')\n",
        "#X.query_time = X[['query_time']].transform(lambda x: x + '.' + '0' * 6 if len(x) == 19  else x + (26 - len(x)) * '0')\n",
        "\n",
        "#X = X.transform({'query': (lambda x: x.lower()), 'click_time':(lambda time: int(''.join(c for c in time if c.isdigit()))), \\\n",
        "                #'query_time': (lambda time: int(''.join(c for c in time if c.isdigit())))})"
      ]
    },
    {
      "cell_type": "code",
      "execution_count": null,
      "metadata": {
        "id": "5TtMJXsDiubf"
      },
      "outputs": [],
      "source": [
        "#query_type = X['query'].unique()\n",
        "#query_size = X['query'].nunique()\n",
        "#query_dict = {query_type[i]: i for i in range(query_size)}\n",
        "#query_dict['ncaa 2011']"
      ]
    },
    {
      "cell_type": "code",
      "execution_count": null,
      "metadata": {
        "id": "4ayvrKBiiubg"
      },
      "outputs": [],
      "source": [
        "#X = X.transform({'query': (lambda x: query_dict[x]), 'click_time': (lambda x: x), 'query_time' : (lambda x: x)})"
      ]
    },
    {
      "cell_type": "code",
      "source": [
        "le = preprocessing.LabelEncoder()\n",
        "X['new_query'] = le.fit_transform(X['new_query'].values)"
      ],
      "metadata": {
        "id": "m9Tp3aXU9dKC"
      },
      "execution_count": null,
      "outputs": []
    },
    {
      "cell_type": "code",
      "execution_count": null,
      "metadata": {
        "colab": {
          "base_uri": "https://localhost:8080/"
        },
        "id": "Zg7aPlKMiubg",
        "outputId": "06fc1e51-7e10-446d-f0e5-f38ee19fd9f2"
      },
      "outputs": [
        {
          "output_type": "execute_result",
          "data": {
            "text/plain": [
              "array([[     10, 2032076],\n",
              "       [      9, 9854804],\n",
              "       [      9, 2670133],\n",
              "       ...,\n",
              "       [     10, 3046603],\n",
              "       [     10, 2340293],\n",
              "       [     10, 2953607]])"
            ]
          },
          "metadata": {},
          "execution_count": 142
        }
      ],
      "source": [
        "X"
      ]
    },
    {
      "cell_type": "markdown",
      "source": [
        "## Test Feature Scaling"
      ],
      "metadata": {
        "id": "DXCnAZf2dQCO"
      }
    },
    {
      "cell_type": "code",
      "source": [
        "from sklearn.preprocessing import MinMaxScaler\n",
        "\n",
        "ms = MinMaxScaler()\n",
        "\n",
        "X = ms.fit_transform(X)"
      ],
      "metadata": {
        "id": "Lr4R9eyrdTGl"
      },
      "execution_count": null,
      "outputs": []
    },
    {
      "cell_type": "code",
      "source": [
        "X = pd.DataFrame(X, columns=[cols])"
      ],
      "metadata": {
        "id": "AzEeBbxndch-"
      },
      "execution_count": null,
      "outputs": []
    },
    {
      "cell_type": "markdown",
      "source": [
        "## Test Vetorized in DIfferent Ways\n"
      ],
      "metadata": {
        "id": "sEA41-fKdR9E"
      }
    },
    {
      "cell_type": "code",
      "execution_count": null,
      "metadata": {
        "id": "InZ7e2gaiubh"
      },
      "outputs": [],
      "source": [
        "from sklearn.model_selection import train_test_split\n",
        "X_train, X_test, y_train, y_test = train_test_split(X, y, test_size=0.3, random_state=42)"
      ]
    },
    {
      "cell_type": "code",
      "source": [
        "X_train = X_train.reset_index(drop = True)\n",
        "X_test = X_test.reset_index(drop = True)"
      ],
      "metadata": {
        "id": "kEcXeq9_KIV0"
      },
      "execution_count": null,
      "outputs": []
    },
    {
      "cell_type": "code",
      "source": [
        "from sklearn.feature_extraction.text import TfidfVectorizer\n",
        "\n",
        "def dummy(tokens):\n",
        "    return tokens\n",
        "\n",
        "vectorizer = TfidfVectorizer(tokenizer=dummy, preprocessor=dummy)\n",
        "Xx = vectorizer.fit_transform(X_train['new_query'].values)\n",
        "Xy = vectorizer.fit_transform(X_test['new_query'].values)\n",
        "features = pd.DataFrame(Xx.todense(), columns=vectorizer.get_feature_names())\n",
        "labels = pd.DataFrame(Xy.todense(), columns=vectorizer.get_feature_names())"
      ],
      "metadata": {
        "colab": {
          "base_uri": "https://localhost:8080/"
        },
        "id": "UCN3-YmQHiuK",
        "outputId": "891c42be-b870-465d-df04-12eb29c6812b"
      },
      "execution_count": null,
      "outputs": [
        {
          "output_type": "stream",
          "name": "stderr",
          "text": [
            "/usr/local/lib/python3.8/dist-packages/sklearn/utils/deprecation.py:87: FutureWarning: Function get_feature_names is deprecated; get_feature_names is deprecated in 1.0 and will be removed in 1.2. Please use get_feature_names_out instead.\n",
            "  warnings.warn(msg, category=FutureWarning)\n"
          ]
        }
      ]
    },
    {
      "cell_type": "code",
      "source": [
        "features"
      ],
      "metadata": {
        "colab": {
          "base_uri": "https://localhost:8080/",
          "height": 468
        },
        "id": "tu7OENysKEI6",
        "outputId": "3c606e06-37ba-4019-ca44-9d7b6ff5d8f3"
      },
      "execution_count": null,
      "outputs": [
        {
          "output_type": "execute_result",
          "data": {
            "text/plain": [
              "                   0    1    2         3    4    5    6    7    8  ...    q  \\\n",
              "0      0.157826  0.0  0.0  0.0  0.000000  0.0  0.0  0.0  0.0  0.0  ...  0.0   \n",
              "1      0.000000  0.0  0.0  0.0  0.775349  0.0  0.0  0.0  0.0  0.0  ...  0.0   \n",
              "2      0.174144  0.0  0.0  0.0  0.000000  0.0  0.0  0.0  0.0  0.0  ...  0.0   \n",
              "3      0.000000  0.0  0.0  0.0  0.000000  0.0  0.0  0.0  0.0  0.0  ...  0.0   \n",
              "4      0.156332  0.0  0.0  0.0  0.000000  0.0  0.0  0.0  0.0  0.0  ...  0.0   \n",
              "...         ...  ...  ...  ...       ...  ...  ...  ...  ...  ...  ...  ...   \n",
              "29650  0.260838  0.0  0.0  0.0  0.000000  0.0  0.0  0.0  0.0  0.0  ...  0.0   \n",
              "29651  0.000000  0.0  0.0  0.0  0.000000  0.0  0.0  0.0  0.0  0.0  ...  0.0   \n",
              "29652  0.260838  0.0  0.0  0.0  0.000000  0.0  0.0  0.0  0.0  0.0  ...  0.0   \n",
              "29653  0.000000  0.0  0.0  0.0  0.000000  0.0  0.0  0.0  0.0  0.0  ...  0.0   \n",
              "29654  0.000000  0.0  0.0  0.0  0.775349  0.0  0.0  0.0  0.0  0.0  ...  0.0   \n",
              "\n",
              "              r         s         t    u    v         w         x    y  \\\n",
              "0      0.341774  0.000000  0.196230  0.0  0.0  0.000000  0.000000  0.0   \n",
              "1      0.000000  0.000000  0.000000  0.0  0.0  0.490093  0.000000  0.0   \n",
              "2      0.377111  0.248491  0.000000  0.0  0.0  0.000000  0.000000  0.0   \n",
              "3      0.000000  0.000000  0.000000  0.0  0.0  0.000000  0.705005  0.0   \n",
              "4      0.000000  0.223075  0.000000  0.0  0.0  0.000000  0.632755  0.0   \n",
              "...         ...       ...       ...  ...  ...       ...       ...  ...   \n",
              "29650  0.564846  0.000000  0.000000  0.0  0.0  0.423924  0.000000  0.0   \n",
              "29651  0.313117  0.000000  0.000000  0.0  0.0  0.000000  0.000000  0.0   \n",
              "29652  0.564846  0.000000  0.000000  0.0  0.0  0.423924  0.000000  0.0   \n",
              "29653  0.000000  0.000000  0.376103  0.0  0.0  0.000000  0.000000  0.0   \n",
              "29654  0.000000  0.000000  0.000000  0.0  0.0  0.490093  0.000000  0.0   \n",
              "\n",
              "              z  \n",
              "0      0.000000  \n",
              "1      0.000000  \n",
              "2      0.000000  \n",
              "3      0.000000  \n",
              "4      0.000000  \n",
              "...         ...  \n",
              "29650  0.000000  \n",
              "29651  0.716551  \n",
              "29652  0.000000  \n",
              "29653  0.000000  \n",
              "29654  0.000000  \n",
              "\n",
              "[29655 rows x 38 columns]"
            ],
            "text/html": [
              "\n",
              "  <div id=\"df-c6a0736b-9629-463e-acae-430f65f45760\">\n",
              "    <div class=\"colab-df-container\">\n",
              "      <div>\n",
              "<style scoped>\n",
              "    .dataframe tbody tr th:only-of-type {\n",
              "        vertical-align: middle;\n",
              "    }\n",
              "\n",
              "    .dataframe tbody tr th {\n",
              "        vertical-align: top;\n",
              "    }\n",
              "\n",
              "    .dataframe thead th {\n",
              "        text-align: right;\n",
              "    }\n",
              "</style>\n",
              "<table border=\"1\" class=\"dataframe\">\n",
              "  <thead>\n",
              "    <tr style=\"text-align: right;\">\n",
              "      <th></th>\n",
              "      <th></th>\n",
              "      <th>0</th>\n",
              "      <th>1</th>\n",
              "      <th>2</th>\n",
              "      <th>3</th>\n",
              "      <th>4</th>\n",
              "      <th>5</th>\n",
              "      <th>6</th>\n",
              "      <th>7</th>\n",
              "      <th>8</th>\n",
              "      <th>...</th>\n",
              "      <th>q</th>\n",
              "      <th>r</th>\n",
              "      <th>s</th>\n",
              "      <th>t</th>\n",
              "      <th>u</th>\n",
              "      <th>v</th>\n",
              "      <th>w</th>\n",
              "      <th>x</th>\n",
              "      <th>y</th>\n",
              "      <th>z</th>\n",
              "    </tr>\n",
              "  </thead>\n",
              "  <tbody>\n",
              "    <tr>\n",
              "      <th>0</th>\n",
              "      <td>0.157826</td>\n",
              "      <td>0.0</td>\n",
              "      <td>0.0</td>\n",
              "      <td>0.0</td>\n",
              "      <td>0.000000</td>\n",
              "      <td>0.0</td>\n",
              "      <td>0.0</td>\n",
              "      <td>0.0</td>\n",
              "      <td>0.0</td>\n",
              "      <td>0.0</td>\n",
              "      <td>...</td>\n",
              "      <td>0.0</td>\n",
              "      <td>0.341774</td>\n",
              "      <td>0.000000</td>\n",
              "      <td>0.196230</td>\n",
              "      <td>0.0</td>\n",
              "      <td>0.0</td>\n",
              "      <td>0.000000</td>\n",
              "      <td>0.000000</td>\n",
              "      <td>0.0</td>\n",
              "      <td>0.000000</td>\n",
              "    </tr>\n",
              "    <tr>\n",
              "      <th>1</th>\n",
              "      <td>0.000000</td>\n",
              "      <td>0.0</td>\n",
              "      <td>0.0</td>\n",
              "      <td>0.0</td>\n",
              "      <td>0.775349</td>\n",
              "      <td>0.0</td>\n",
              "      <td>0.0</td>\n",
              "      <td>0.0</td>\n",
              "      <td>0.0</td>\n",
              "      <td>0.0</td>\n",
              "      <td>...</td>\n",
              "      <td>0.0</td>\n",
              "      <td>0.000000</td>\n",
              "      <td>0.000000</td>\n",
              "      <td>0.000000</td>\n",
              "      <td>0.0</td>\n",
              "      <td>0.0</td>\n",
              "      <td>0.490093</td>\n",
              "      <td>0.000000</td>\n",
              "      <td>0.0</td>\n",
              "      <td>0.000000</td>\n",
              "    </tr>\n",
              "    <tr>\n",
              "      <th>2</th>\n",
              "      <td>0.174144</td>\n",
              "      <td>0.0</td>\n",
              "      <td>0.0</td>\n",
              "      <td>0.0</td>\n",
              "      <td>0.000000</td>\n",
              "      <td>0.0</td>\n",
              "      <td>0.0</td>\n",
              "      <td>0.0</td>\n",
              "      <td>0.0</td>\n",
              "      <td>0.0</td>\n",
              "      <td>...</td>\n",
              "      <td>0.0</td>\n",
              "      <td>0.377111</td>\n",
              "      <td>0.248491</td>\n",
              "      <td>0.000000</td>\n",
              "      <td>0.0</td>\n",
              "      <td>0.0</td>\n",
              "      <td>0.000000</td>\n",
              "      <td>0.000000</td>\n",
              "      <td>0.0</td>\n",
              "      <td>0.000000</td>\n",
              "    </tr>\n",
              "    <tr>\n",
              "      <th>3</th>\n",
              "      <td>0.000000</td>\n",
              "      <td>0.0</td>\n",
              "      <td>0.0</td>\n",
              "      <td>0.0</td>\n",
              "      <td>0.000000</td>\n",
              "      <td>0.0</td>\n",
              "      <td>0.0</td>\n",
              "      <td>0.0</td>\n",
              "      <td>0.0</td>\n",
              "      <td>0.0</td>\n",
              "      <td>...</td>\n",
              "      <td>0.0</td>\n",
              "      <td>0.000000</td>\n",
              "      <td>0.000000</td>\n",
              "      <td>0.000000</td>\n",
              "      <td>0.0</td>\n",
              "      <td>0.0</td>\n",
              "      <td>0.000000</td>\n",
              "      <td>0.705005</td>\n",
              "      <td>0.0</td>\n",
              "      <td>0.000000</td>\n",
              "    </tr>\n",
              "    <tr>\n",
              "      <th>4</th>\n",
              "      <td>0.156332</td>\n",
              "      <td>0.0</td>\n",
              "      <td>0.0</td>\n",
              "      <td>0.0</td>\n",
              "      <td>0.000000</td>\n",
              "      <td>0.0</td>\n",
              "      <td>0.0</td>\n",
              "      <td>0.0</td>\n",
              "      <td>0.0</td>\n",
              "      <td>0.0</td>\n",
              "      <td>...</td>\n",
              "      <td>0.0</td>\n",
              "      <td>0.000000</td>\n",
              "      <td>0.223075</td>\n",
              "      <td>0.000000</td>\n",
              "      <td>0.0</td>\n",
              "      <td>0.0</td>\n",
              "      <td>0.000000</td>\n",
              "      <td>0.632755</td>\n",
              "      <td>0.0</td>\n",
              "      <td>0.000000</td>\n",
              "    </tr>\n",
              "    <tr>\n",
              "      <th>...</th>\n",
              "      <td>...</td>\n",
              "      <td>...</td>\n",
              "      <td>...</td>\n",
              "      <td>...</td>\n",
              "      <td>...</td>\n",
              "      <td>...</td>\n",
              "      <td>...</td>\n",
              "      <td>...</td>\n",
              "      <td>...</td>\n",
              "      <td>...</td>\n",
              "      <td>...</td>\n",
              "      <td>...</td>\n",
              "      <td>...</td>\n",
              "      <td>...</td>\n",
              "      <td>...</td>\n",
              "      <td>...</td>\n",
              "      <td>...</td>\n",
              "      <td>...</td>\n",
              "      <td>...</td>\n",
              "      <td>...</td>\n",
              "      <td>...</td>\n",
              "    </tr>\n",
              "    <tr>\n",
              "      <th>29650</th>\n",
              "      <td>0.260838</td>\n",
              "      <td>0.0</td>\n",
              "      <td>0.0</td>\n",
              "      <td>0.0</td>\n",
              "      <td>0.000000</td>\n",
              "      <td>0.0</td>\n",
              "      <td>0.0</td>\n",
              "      <td>0.0</td>\n",
              "      <td>0.0</td>\n",
              "      <td>0.0</td>\n",
              "      <td>...</td>\n",
              "      <td>0.0</td>\n",
              "      <td>0.564846</td>\n",
              "      <td>0.000000</td>\n",
              "      <td>0.000000</td>\n",
              "      <td>0.0</td>\n",
              "      <td>0.0</td>\n",
              "      <td>0.423924</td>\n",
              "      <td>0.000000</td>\n",
              "      <td>0.0</td>\n",
              "      <td>0.000000</td>\n",
              "    </tr>\n",
              "    <tr>\n",
              "      <th>29651</th>\n",
              "      <td>0.000000</td>\n",
              "      <td>0.0</td>\n",
              "      <td>0.0</td>\n",
              "      <td>0.0</td>\n",
              "      <td>0.000000</td>\n",
              "      <td>0.0</td>\n",
              "      <td>0.0</td>\n",
              "      <td>0.0</td>\n",
              "      <td>0.0</td>\n",
              "      <td>0.0</td>\n",
              "      <td>...</td>\n",
              "      <td>0.0</td>\n",
              "      <td>0.313117</td>\n",
              "      <td>0.000000</td>\n",
              "      <td>0.000000</td>\n",
              "      <td>0.0</td>\n",
              "      <td>0.0</td>\n",
              "      <td>0.000000</td>\n",
              "      <td>0.000000</td>\n",
              "      <td>0.0</td>\n",
              "      <td>0.716551</td>\n",
              "    </tr>\n",
              "    <tr>\n",
              "      <th>29652</th>\n",
              "      <td>0.260838</td>\n",
              "      <td>0.0</td>\n",
              "      <td>0.0</td>\n",
              "      <td>0.0</td>\n",
              "      <td>0.000000</td>\n",
              "      <td>0.0</td>\n",
              "      <td>0.0</td>\n",
              "      <td>0.0</td>\n",
              "      <td>0.0</td>\n",
              "      <td>0.0</td>\n",
              "      <td>...</td>\n",
              "      <td>0.0</td>\n",
              "      <td>0.564846</td>\n",
              "      <td>0.000000</td>\n",
              "      <td>0.000000</td>\n",
              "      <td>0.0</td>\n",
              "      <td>0.0</td>\n",
              "      <td>0.423924</td>\n",
              "      <td>0.000000</td>\n",
              "      <td>0.0</td>\n",
              "      <td>0.000000</td>\n",
              "    </tr>\n",
              "    <tr>\n",
              "      <th>29653</th>\n",
              "      <td>0.000000</td>\n",
              "      <td>0.0</td>\n",
              "      <td>0.0</td>\n",
              "      <td>0.0</td>\n",
              "      <td>0.000000</td>\n",
              "      <td>0.0</td>\n",
              "      <td>0.0</td>\n",
              "      <td>0.0</td>\n",
              "      <td>0.0</td>\n",
              "      <td>0.0</td>\n",
              "      <td>...</td>\n",
              "      <td>0.0</td>\n",
              "      <td>0.000000</td>\n",
              "      <td>0.000000</td>\n",
              "      <td>0.376103</td>\n",
              "      <td>0.0</td>\n",
              "      <td>0.0</td>\n",
              "      <td>0.000000</td>\n",
              "      <td>0.000000</td>\n",
              "      <td>0.0</td>\n",
              "      <td>0.000000</td>\n",
              "    </tr>\n",
              "    <tr>\n",
              "      <th>29654</th>\n",
              "      <td>0.000000</td>\n",
              "      <td>0.0</td>\n",
              "      <td>0.0</td>\n",
              "      <td>0.0</td>\n",
              "      <td>0.775349</td>\n",
              "      <td>0.0</td>\n",
              "      <td>0.0</td>\n",
              "      <td>0.0</td>\n",
              "      <td>0.0</td>\n",
              "      <td>0.0</td>\n",
              "      <td>...</td>\n",
              "      <td>0.0</td>\n",
              "      <td>0.000000</td>\n",
              "      <td>0.000000</td>\n",
              "      <td>0.000000</td>\n",
              "      <td>0.0</td>\n",
              "      <td>0.0</td>\n",
              "      <td>0.490093</td>\n",
              "      <td>0.000000</td>\n",
              "      <td>0.0</td>\n",
              "      <td>0.000000</td>\n",
              "    </tr>\n",
              "  </tbody>\n",
              "</table>\n",
              "<p>29655 rows × 38 columns</p>\n",
              "</div>\n",
              "      <button class=\"colab-df-convert\" onclick=\"convertToInteractive('df-c6a0736b-9629-463e-acae-430f65f45760')\"\n",
              "              title=\"Convert this dataframe to an interactive table.\"\n",
              "              style=\"display:none;\">\n",
              "        \n",
              "  <svg xmlns=\"http://www.w3.org/2000/svg\" height=\"24px\"viewBox=\"0 0 24 24\"\n",
              "       width=\"24px\">\n",
              "    <path d=\"M0 0h24v24H0V0z\" fill=\"none\"/>\n",
              "    <path d=\"M18.56 5.44l.94 2.06.94-2.06 2.06-.94-2.06-.94-.94-2.06-.94 2.06-2.06.94zm-11 1L8.5 8.5l.94-2.06 2.06-.94-2.06-.94L8.5 2.5l-.94 2.06-2.06.94zm10 10l.94 2.06.94-2.06 2.06-.94-2.06-.94-.94-2.06-.94 2.06-2.06.94z\"/><path d=\"M17.41 7.96l-1.37-1.37c-.4-.4-.92-.59-1.43-.59-.52 0-1.04.2-1.43.59L10.3 9.45l-7.72 7.72c-.78.78-.78 2.05 0 2.83L4 21.41c.39.39.9.59 1.41.59.51 0 1.02-.2 1.41-.59l7.78-7.78 2.81-2.81c.8-.78.8-2.07 0-2.86zM5.41 20L4 18.59l7.72-7.72 1.47 1.35L5.41 20z\"/>\n",
              "  </svg>\n",
              "      </button>\n",
              "      \n",
              "  <style>\n",
              "    .colab-df-container {\n",
              "      display:flex;\n",
              "      flex-wrap:wrap;\n",
              "      gap: 12px;\n",
              "    }\n",
              "\n",
              "    .colab-df-convert {\n",
              "      background-color: #E8F0FE;\n",
              "      border: none;\n",
              "      border-radius: 50%;\n",
              "      cursor: pointer;\n",
              "      display: none;\n",
              "      fill: #1967D2;\n",
              "      height: 32px;\n",
              "      padding: 0 0 0 0;\n",
              "      width: 32px;\n",
              "    }\n",
              "\n",
              "    .colab-df-convert:hover {\n",
              "      background-color: #E2EBFA;\n",
              "      box-shadow: 0px 1px 2px rgba(60, 64, 67, 0.3), 0px 1px 3px 1px rgba(60, 64, 67, 0.15);\n",
              "      fill: #174EA6;\n",
              "    }\n",
              "\n",
              "    [theme=dark] .colab-df-convert {\n",
              "      background-color: #3B4455;\n",
              "      fill: #D2E3FC;\n",
              "    }\n",
              "\n",
              "    [theme=dark] .colab-df-convert:hover {\n",
              "      background-color: #434B5C;\n",
              "      box-shadow: 0px 1px 3px 1px rgba(0, 0, 0, 0.15);\n",
              "      filter: drop-shadow(0px 1px 2px rgba(0, 0, 0, 0.3));\n",
              "      fill: #FFFFFF;\n",
              "    }\n",
              "  </style>\n",
              "\n",
              "      <script>\n",
              "        const buttonEl =\n",
              "          document.querySelector('#df-c6a0736b-9629-463e-acae-430f65f45760 button.colab-df-convert');\n",
              "        buttonEl.style.display =\n",
              "          google.colab.kernel.accessAllowed ? 'block' : 'none';\n",
              "\n",
              "        async function convertToInteractive(key) {\n",
              "          const element = document.querySelector('#df-c6a0736b-9629-463e-acae-430f65f45760');\n",
              "          const dataTable =\n",
              "            await google.colab.kernel.invokeFunction('convertToInteractive',\n",
              "                                                     [key], {});\n",
              "          if (!dataTable) return;\n",
              "\n",
              "          const docLinkHtml = 'Like what you see? Visit the ' +\n",
              "            '<a target=\"_blank\" href=https://colab.research.google.com/notebooks/data_table.ipynb>data table notebook</a>'\n",
              "            + ' to learn more about interactive tables.';\n",
              "          element.innerHTML = '';\n",
              "          dataTable['output_type'] = 'display_data';\n",
              "          await google.colab.output.renderOutput(dataTable, element);\n",
              "          const docLink = document.createElement('div');\n",
              "          docLink.innerHTML = docLinkHtml;\n",
              "          element.appendChild(docLink);\n",
              "        }\n",
              "      </script>\n",
              "    </div>\n",
              "  </div>\n",
              "  "
            ]
          },
          "metadata": {},
          "execution_count": 164
        }
      ]
    },
    {
      "cell_type": "code",
      "source": [
        "X_train = (X_train.join(features)).drop(['new_query'],axis=1)\n",
        "X_test = (X_test.join(labels)).drop(['new_query'],axis=1)"
      ],
      "metadata": {
        "id": "jL1LXEQIJ4hI"
      },
      "execution_count": null,
      "outputs": []
    },
    {
      "cell_type": "code",
      "source": [
        "X_train"
      ],
      "metadata": {
        "colab": {
          "base_uri": "https://localhost:8080/",
          "height": 488
        },
        "id": "42GVLtrSGC5A",
        "outputId": "5f952430-f52b-4e73-a76e-afeea9e79cf3"
      },
      "execution_count": null,
      "outputs": [
        {
          "output_type": "execute_result",
          "data": {
            "text/plain": [
              "       click_time_month  click_time_day  click_time_hour              0    1  \\\n",
              "0                    10              18               17  0.157826  0.0  0.0   \n",
              "1                    10               1               13  0.000000  0.0  0.0   \n",
              "2                     9               8               16  0.174144  0.0  0.0   \n",
              "3                    10              24               11  0.000000  0.0  0.0   \n",
              "4                     9              14                0  0.156332  0.0  0.0   \n",
              "...                 ...             ...              ...       ...  ...  ...   \n",
              "29650                 9              20               13  0.260838  0.0  0.0   \n",
              "29651                10              11                6  0.000000  0.0  0.0   \n",
              "29652                 8              17                3  0.260838  0.0  0.0   \n",
              "29653                 9               8               11  0.000000  0.0  0.0   \n",
              "29654                10              15               19  0.000000  0.0  0.0   \n",
              "\n",
              "         2         3    4    5  ...    q         r         s         t    u  \\\n",
              "0      0.0  0.000000  0.0  0.0  ...  0.0  0.341774  0.000000  0.196230  0.0   \n",
              "1      0.0  0.775349  0.0  0.0  ...  0.0  0.000000  0.000000  0.000000  0.0   \n",
              "2      0.0  0.000000  0.0  0.0  ...  0.0  0.377111  0.248491  0.000000  0.0   \n",
              "3      0.0  0.000000  0.0  0.0  ...  0.0  0.000000  0.000000  0.000000  0.0   \n",
              "4      0.0  0.000000  0.0  0.0  ...  0.0  0.000000  0.223075  0.000000  0.0   \n",
              "...    ...       ...  ...  ...  ...  ...       ...       ...       ...  ...   \n",
              "29650  0.0  0.000000  0.0  0.0  ...  0.0  0.564846  0.000000  0.000000  0.0   \n",
              "29651  0.0  0.000000  0.0  0.0  ...  0.0  0.313117  0.000000  0.000000  0.0   \n",
              "29652  0.0  0.000000  0.0  0.0  ...  0.0  0.564846  0.000000  0.000000  0.0   \n",
              "29653  0.0  0.000000  0.0  0.0  ...  0.0  0.000000  0.000000  0.376103  0.0   \n",
              "29654  0.0  0.775349  0.0  0.0  ...  0.0  0.000000  0.000000  0.000000  0.0   \n",
              "\n",
              "         v         w         x    y         z  \n",
              "0      0.0  0.000000  0.000000  0.0  0.000000  \n",
              "1      0.0  0.490093  0.000000  0.0  0.000000  \n",
              "2      0.0  0.000000  0.000000  0.0  0.000000  \n",
              "3      0.0  0.000000  0.705005  0.0  0.000000  \n",
              "4      0.0  0.000000  0.632755  0.0  0.000000  \n",
              "...    ...       ...       ...  ...       ...  \n",
              "29650  0.0  0.423924  0.000000  0.0  0.000000  \n",
              "29651  0.0  0.000000  0.000000  0.0  0.716551  \n",
              "29652  0.0  0.423924  0.000000  0.0  0.000000  \n",
              "29653  0.0  0.000000  0.000000  0.0  0.000000  \n",
              "29654  0.0  0.490093  0.000000  0.0  0.000000  \n",
              "\n",
              "[29655 rows x 41 columns]"
            ],
            "text/html": [
              "\n",
              "  <div id=\"df-73260af6-e87f-4248-ba32-72137e9f5977\">\n",
              "    <div class=\"colab-df-container\">\n",
              "      <div>\n",
              "<style scoped>\n",
              "    .dataframe tbody tr th:only-of-type {\n",
              "        vertical-align: middle;\n",
              "    }\n",
              "\n",
              "    .dataframe tbody tr th {\n",
              "        vertical-align: top;\n",
              "    }\n",
              "\n",
              "    .dataframe thead th {\n",
              "        text-align: right;\n",
              "    }\n",
              "</style>\n",
              "<table border=\"1\" class=\"dataframe\">\n",
              "  <thead>\n",
              "    <tr style=\"text-align: right;\">\n",
              "      <th></th>\n",
              "      <th>click_time_month</th>\n",
              "      <th>click_time_day</th>\n",
              "      <th>click_time_hour</th>\n",
              "      <th></th>\n",
              "      <th>0</th>\n",
              "      <th>1</th>\n",
              "      <th>2</th>\n",
              "      <th>3</th>\n",
              "      <th>4</th>\n",
              "      <th>5</th>\n",
              "      <th>...</th>\n",
              "      <th>q</th>\n",
              "      <th>r</th>\n",
              "      <th>s</th>\n",
              "      <th>t</th>\n",
              "      <th>u</th>\n",
              "      <th>v</th>\n",
              "      <th>w</th>\n",
              "      <th>x</th>\n",
              "      <th>y</th>\n",
              "      <th>z</th>\n",
              "    </tr>\n",
              "  </thead>\n",
              "  <tbody>\n",
              "    <tr>\n",
              "      <th>0</th>\n",
              "      <td>10</td>\n",
              "      <td>18</td>\n",
              "      <td>17</td>\n",
              "      <td>0.157826</td>\n",
              "      <td>0.0</td>\n",
              "      <td>0.0</td>\n",
              "      <td>0.0</td>\n",
              "      <td>0.000000</td>\n",
              "      <td>0.0</td>\n",
              "      <td>0.0</td>\n",
              "      <td>...</td>\n",
              "      <td>0.0</td>\n",
              "      <td>0.341774</td>\n",
              "      <td>0.000000</td>\n",
              "      <td>0.196230</td>\n",
              "      <td>0.0</td>\n",
              "      <td>0.0</td>\n",
              "      <td>0.000000</td>\n",
              "      <td>0.000000</td>\n",
              "      <td>0.0</td>\n",
              "      <td>0.000000</td>\n",
              "    </tr>\n",
              "    <tr>\n",
              "      <th>1</th>\n",
              "      <td>10</td>\n",
              "      <td>1</td>\n",
              "      <td>13</td>\n",
              "      <td>0.000000</td>\n",
              "      <td>0.0</td>\n",
              "      <td>0.0</td>\n",
              "      <td>0.0</td>\n",
              "      <td>0.775349</td>\n",
              "      <td>0.0</td>\n",
              "      <td>0.0</td>\n",
              "      <td>...</td>\n",
              "      <td>0.0</td>\n",
              "      <td>0.000000</td>\n",
              "      <td>0.000000</td>\n",
              "      <td>0.000000</td>\n",
              "      <td>0.0</td>\n",
              "      <td>0.0</td>\n",
              "      <td>0.490093</td>\n",
              "      <td>0.000000</td>\n",
              "      <td>0.0</td>\n",
              "      <td>0.000000</td>\n",
              "    </tr>\n",
              "    <tr>\n",
              "      <th>2</th>\n",
              "      <td>9</td>\n",
              "      <td>8</td>\n",
              "      <td>16</td>\n",
              "      <td>0.174144</td>\n",
              "      <td>0.0</td>\n",
              "      <td>0.0</td>\n",
              "      <td>0.0</td>\n",
              "      <td>0.000000</td>\n",
              "      <td>0.0</td>\n",
              "      <td>0.0</td>\n",
              "      <td>...</td>\n",
              "      <td>0.0</td>\n",
              "      <td>0.377111</td>\n",
              "      <td>0.248491</td>\n",
              "      <td>0.000000</td>\n",
              "      <td>0.0</td>\n",
              "      <td>0.0</td>\n",
              "      <td>0.000000</td>\n",
              "      <td>0.000000</td>\n",
              "      <td>0.0</td>\n",
              "      <td>0.000000</td>\n",
              "    </tr>\n",
              "    <tr>\n",
              "      <th>3</th>\n",
              "      <td>10</td>\n",
              "      <td>24</td>\n",
              "      <td>11</td>\n",
              "      <td>0.000000</td>\n",
              "      <td>0.0</td>\n",
              "      <td>0.0</td>\n",
              "      <td>0.0</td>\n",
              "      <td>0.000000</td>\n",
              "      <td>0.0</td>\n",
              "      <td>0.0</td>\n",
              "      <td>...</td>\n",
              "      <td>0.0</td>\n",
              "      <td>0.000000</td>\n",
              "      <td>0.000000</td>\n",
              "      <td>0.000000</td>\n",
              "      <td>0.0</td>\n",
              "      <td>0.0</td>\n",
              "      <td>0.000000</td>\n",
              "      <td>0.705005</td>\n",
              "      <td>0.0</td>\n",
              "      <td>0.000000</td>\n",
              "    </tr>\n",
              "    <tr>\n",
              "      <th>4</th>\n",
              "      <td>9</td>\n",
              "      <td>14</td>\n",
              "      <td>0</td>\n",
              "      <td>0.156332</td>\n",
              "      <td>0.0</td>\n",
              "      <td>0.0</td>\n",
              "      <td>0.0</td>\n",
              "      <td>0.000000</td>\n",
              "      <td>0.0</td>\n",
              "      <td>0.0</td>\n",
              "      <td>...</td>\n",
              "      <td>0.0</td>\n",
              "      <td>0.000000</td>\n",
              "      <td>0.223075</td>\n",
              "      <td>0.000000</td>\n",
              "      <td>0.0</td>\n",
              "      <td>0.0</td>\n",
              "      <td>0.000000</td>\n",
              "      <td>0.632755</td>\n",
              "      <td>0.0</td>\n",
              "      <td>0.000000</td>\n",
              "    </tr>\n",
              "    <tr>\n",
              "      <th>...</th>\n",
              "      <td>...</td>\n",
              "      <td>...</td>\n",
              "      <td>...</td>\n",
              "      <td>...</td>\n",
              "      <td>...</td>\n",
              "      <td>...</td>\n",
              "      <td>...</td>\n",
              "      <td>...</td>\n",
              "      <td>...</td>\n",
              "      <td>...</td>\n",
              "      <td>...</td>\n",
              "      <td>...</td>\n",
              "      <td>...</td>\n",
              "      <td>...</td>\n",
              "      <td>...</td>\n",
              "      <td>...</td>\n",
              "      <td>...</td>\n",
              "      <td>...</td>\n",
              "      <td>...</td>\n",
              "      <td>...</td>\n",
              "      <td>...</td>\n",
              "    </tr>\n",
              "    <tr>\n",
              "      <th>29650</th>\n",
              "      <td>9</td>\n",
              "      <td>20</td>\n",
              "      <td>13</td>\n",
              "      <td>0.260838</td>\n",
              "      <td>0.0</td>\n",
              "      <td>0.0</td>\n",
              "      <td>0.0</td>\n",
              "      <td>0.000000</td>\n",
              "      <td>0.0</td>\n",
              "      <td>0.0</td>\n",
              "      <td>...</td>\n",
              "      <td>0.0</td>\n",
              "      <td>0.564846</td>\n",
              "      <td>0.000000</td>\n",
              "      <td>0.000000</td>\n",
              "      <td>0.0</td>\n",
              "      <td>0.0</td>\n",
              "      <td>0.423924</td>\n",
              "      <td>0.000000</td>\n",
              "      <td>0.0</td>\n",
              "      <td>0.000000</td>\n",
              "    </tr>\n",
              "    <tr>\n",
              "      <th>29651</th>\n",
              "      <td>10</td>\n",
              "      <td>11</td>\n",
              "      <td>6</td>\n",
              "      <td>0.000000</td>\n",
              "      <td>0.0</td>\n",
              "      <td>0.0</td>\n",
              "      <td>0.0</td>\n",
              "      <td>0.000000</td>\n",
              "      <td>0.0</td>\n",
              "      <td>0.0</td>\n",
              "      <td>...</td>\n",
              "      <td>0.0</td>\n",
              "      <td>0.313117</td>\n",
              "      <td>0.000000</td>\n",
              "      <td>0.000000</td>\n",
              "      <td>0.0</td>\n",
              "      <td>0.0</td>\n",
              "      <td>0.000000</td>\n",
              "      <td>0.000000</td>\n",
              "      <td>0.0</td>\n",
              "      <td>0.716551</td>\n",
              "    </tr>\n",
              "    <tr>\n",
              "      <th>29652</th>\n",
              "      <td>8</td>\n",
              "      <td>17</td>\n",
              "      <td>3</td>\n",
              "      <td>0.260838</td>\n",
              "      <td>0.0</td>\n",
              "      <td>0.0</td>\n",
              "      <td>0.0</td>\n",
              "      <td>0.000000</td>\n",
              "      <td>0.0</td>\n",
              "      <td>0.0</td>\n",
              "      <td>...</td>\n",
              "      <td>0.0</td>\n",
              "      <td>0.564846</td>\n",
              "      <td>0.000000</td>\n",
              "      <td>0.000000</td>\n",
              "      <td>0.0</td>\n",
              "      <td>0.0</td>\n",
              "      <td>0.423924</td>\n",
              "      <td>0.000000</td>\n",
              "      <td>0.0</td>\n",
              "      <td>0.000000</td>\n",
              "    </tr>\n",
              "    <tr>\n",
              "      <th>29653</th>\n",
              "      <td>9</td>\n",
              "      <td>8</td>\n",
              "      <td>11</td>\n",
              "      <td>0.000000</td>\n",
              "      <td>0.0</td>\n",
              "      <td>0.0</td>\n",
              "      <td>0.0</td>\n",
              "      <td>0.000000</td>\n",
              "      <td>0.0</td>\n",
              "      <td>0.0</td>\n",
              "      <td>...</td>\n",
              "      <td>0.0</td>\n",
              "      <td>0.000000</td>\n",
              "      <td>0.000000</td>\n",
              "      <td>0.376103</td>\n",
              "      <td>0.0</td>\n",
              "      <td>0.0</td>\n",
              "      <td>0.000000</td>\n",
              "      <td>0.000000</td>\n",
              "      <td>0.0</td>\n",
              "      <td>0.000000</td>\n",
              "    </tr>\n",
              "    <tr>\n",
              "      <th>29654</th>\n",
              "      <td>10</td>\n",
              "      <td>15</td>\n",
              "      <td>19</td>\n",
              "      <td>0.000000</td>\n",
              "      <td>0.0</td>\n",
              "      <td>0.0</td>\n",
              "      <td>0.0</td>\n",
              "      <td>0.775349</td>\n",
              "      <td>0.0</td>\n",
              "      <td>0.0</td>\n",
              "      <td>...</td>\n",
              "      <td>0.0</td>\n",
              "      <td>0.000000</td>\n",
              "      <td>0.000000</td>\n",
              "      <td>0.000000</td>\n",
              "      <td>0.0</td>\n",
              "      <td>0.0</td>\n",
              "      <td>0.490093</td>\n",
              "      <td>0.000000</td>\n",
              "      <td>0.0</td>\n",
              "      <td>0.000000</td>\n",
              "    </tr>\n",
              "  </tbody>\n",
              "</table>\n",
              "<p>29655 rows × 41 columns</p>\n",
              "</div>\n",
              "      <button class=\"colab-df-convert\" onclick=\"convertToInteractive('df-73260af6-e87f-4248-ba32-72137e9f5977')\"\n",
              "              title=\"Convert this dataframe to an interactive table.\"\n",
              "              style=\"display:none;\">\n",
              "        \n",
              "  <svg xmlns=\"http://www.w3.org/2000/svg\" height=\"24px\"viewBox=\"0 0 24 24\"\n",
              "       width=\"24px\">\n",
              "    <path d=\"M0 0h24v24H0V0z\" fill=\"none\"/>\n",
              "    <path d=\"M18.56 5.44l.94 2.06.94-2.06 2.06-.94-2.06-.94-.94-2.06-.94 2.06-2.06.94zm-11 1L8.5 8.5l.94-2.06 2.06-.94-2.06-.94L8.5 2.5l-.94 2.06-2.06.94zm10 10l.94 2.06.94-2.06 2.06-.94-2.06-.94-.94-2.06-.94 2.06-2.06.94z\"/><path d=\"M17.41 7.96l-1.37-1.37c-.4-.4-.92-.59-1.43-.59-.52 0-1.04.2-1.43.59L10.3 9.45l-7.72 7.72c-.78.78-.78 2.05 0 2.83L4 21.41c.39.39.9.59 1.41.59.51 0 1.02-.2 1.41-.59l7.78-7.78 2.81-2.81c.8-.78.8-2.07 0-2.86zM5.41 20L4 18.59l7.72-7.72 1.47 1.35L5.41 20z\"/>\n",
              "  </svg>\n",
              "      </button>\n",
              "      \n",
              "  <style>\n",
              "    .colab-df-container {\n",
              "      display:flex;\n",
              "      flex-wrap:wrap;\n",
              "      gap: 12px;\n",
              "    }\n",
              "\n",
              "    .colab-df-convert {\n",
              "      background-color: #E8F0FE;\n",
              "      border: none;\n",
              "      border-radius: 50%;\n",
              "      cursor: pointer;\n",
              "      display: none;\n",
              "      fill: #1967D2;\n",
              "      height: 32px;\n",
              "      padding: 0 0 0 0;\n",
              "      width: 32px;\n",
              "    }\n",
              "\n",
              "    .colab-df-convert:hover {\n",
              "      background-color: #E2EBFA;\n",
              "      box-shadow: 0px 1px 2px rgba(60, 64, 67, 0.3), 0px 1px 3px 1px rgba(60, 64, 67, 0.15);\n",
              "      fill: #174EA6;\n",
              "    }\n",
              "\n",
              "    [theme=dark] .colab-df-convert {\n",
              "      background-color: #3B4455;\n",
              "      fill: #D2E3FC;\n",
              "    }\n",
              "\n",
              "    [theme=dark] .colab-df-convert:hover {\n",
              "      background-color: #434B5C;\n",
              "      box-shadow: 0px 1px 3px 1px rgba(0, 0, 0, 0.15);\n",
              "      filter: drop-shadow(0px 1px 2px rgba(0, 0, 0, 0.3));\n",
              "      fill: #FFFFFF;\n",
              "    }\n",
              "  </style>\n",
              "\n",
              "      <script>\n",
              "        const buttonEl =\n",
              "          document.querySelector('#df-73260af6-e87f-4248-ba32-72137e9f5977 button.colab-df-convert');\n",
              "        buttonEl.style.display =\n",
              "          google.colab.kernel.accessAllowed ? 'block' : 'none';\n",
              "\n",
              "        async function convertToInteractive(key) {\n",
              "          const element = document.querySelector('#df-73260af6-e87f-4248-ba32-72137e9f5977');\n",
              "          const dataTable =\n",
              "            await google.colab.kernel.invokeFunction('convertToInteractive',\n",
              "                                                     [key], {});\n",
              "          if (!dataTable) return;\n",
              "\n",
              "          const docLinkHtml = 'Like what you see? Visit the ' +\n",
              "            '<a target=\"_blank\" href=https://colab.research.google.com/notebooks/data_table.ipynb>data table notebook</a>'\n",
              "            + ' to learn more about interactive tables.';\n",
              "          element.innerHTML = '';\n",
              "          dataTable['output_type'] = 'display_data';\n",
              "          await google.colab.output.renderOutput(dataTable, element);\n",
              "          const docLink = document.createElement('div');\n",
              "          docLink.innerHTML = docLinkHtml;\n",
              "          element.appendChild(docLink);\n",
              "        }\n",
              "      </script>\n",
              "    </div>\n",
              "  </div>\n",
              "  "
            ]
          },
          "metadata": {},
          "execution_count": 167
        }
      ]
    },
    {
      "cell_type": "code",
      "source": [
        "X_test"
      ],
      "metadata": {
        "colab": {
          "base_uri": "https://localhost:8080/",
          "height": 488
        },
        "id": "lii0qJR8IX7H",
        "outputId": "2b3f4517-578f-420a-e2fe-7636733b86c8"
      },
      "execution_count": null,
      "outputs": [
        {
          "output_type": "execute_result",
          "data": {
            "text/plain": [
              "       click_time_month  click_time_day  click_time_hour                  0  \\\n",
              "12528                10              16               19  0.381177  0.00000   \n",
              "3617                 10               9               11  0.260839  0.00000   \n",
              "7950                 10              18               20  0.000000  0.64889   \n",
              "7876                 10               2                7  0.000000  0.00000   \n",
              "2000                  9              17               16  0.218361  0.00000   \n",
              "...                 ...             ...              ...       ...      ...   \n",
              "7103                  9              14               12  0.000000  0.00000   \n",
              "3496                  9              19               20  0.160137  0.00000   \n",
              "2449                 10               6               17  0.000000  0.00000   \n",
              "4524                  8              30               12  0.231683  0.00000   \n",
              "5547                 10              15               12  0.000000  0.00000   \n",
              "\n",
              "              1         2         3    4    5  ...    q         r         s  \\\n",
              "12528  0.000000  0.000000  0.000000  0.0  0.0  ...  0.0  0.205076  0.272125   \n",
              "3617   0.000000  0.000000  0.000000  0.0  0.0  ...  0.0  0.561335  0.000000   \n",
              "7950   0.580946  0.193208  0.187440  0.0  0.0  ...  0.0  0.000000  0.000000   \n",
              "7876   0.000000  0.000000  0.000000  0.0  0.0  ...  0.0  0.310820  0.000000   \n",
              "2000   0.000000  0.000000  0.000000  0.0  0.0  ...  0.0  0.000000  0.000000   \n",
              "...         ...       ...       ...  ...  ...  ...  ...       ...       ...   \n",
              "7103   0.000000  0.000000  0.774411  0.0  0.0  ...  0.0  0.000000  0.000000   \n",
              "3496   0.000000  0.000000  0.000000  0.0  0.0  ...  0.0  0.344620  0.228646   \n",
              "2449   0.000000  0.000000  0.000000  0.0  0.0  ...  0.0  0.000000  0.000000   \n",
              "4524   0.000000  0.000000  0.000000  0.0  0.0  ...  0.0  0.249295  0.330801   \n",
              "5547   0.000000  0.000000  0.000000  0.0  0.0  ...  0.0  0.000000  0.000000   \n",
              "\n",
              "              t         u         v         w    x        y         z  \n",
              "12528  0.000000  0.392529  0.501702  0.000000  0.0  0.00000  0.000000  \n",
              "3617   0.000000  0.000000  0.000000  0.424306  0.0  0.00000  0.000000  \n",
              "7950   0.000000  0.000000  0.000000  0.118069  0.0  0.00000  0.000000  \n",
              "7876   0.000000  0.000000  0.000000  0.000000  0.0  0.00000  0.720935  \n",
              "2000   0.000000  0.000000  0.000000  0.000000  0.0  0.00000  0.000000  \n",
              "...         ...       ...       ...       ...  ...      ...       ...  \n",
              "7103   0.000000  0.000000  0.000000  0.000000  0.0  0.00000  0.000000  \n",
              "3496   0.000000  0.000000  0.421542  0.000000  0.0  0.31825  0.000000  \n",
              "2449   0.000000  0.000000  0.000000  0.000000  0.0  0.00000  0.000000  \n",
              "4524   0.286377  0.000000  0.000000  0.000000  0.0  0.00000  0.000000  \n",
              "5547   0.000000  0.000000  0.000000  0.000000  0.0  0.00000  0.000000  \n",
              "\n",
              "[3883 rows x 41 columns]"
            ],
            "text/html": [
              "\n",
              "  <div id=\"df-3f9f9c6b-8c13-48ee-b86f-671b882280f7\">\n",
              "    <div class=\"colab-df-container\">\n",
              "      <div>\n",
              "<style scoped>\n",
              "    .dataframe tbody tr th:only-of-type {\n",
              "        vertical-align: middle;\n",
              "    }\n",
              "\n",
              "    .dataframe tbody tr th {\n",
              "        vertical-align: top;\n",
              "    }\n",
              "\n",
              "    .dataframe thead th {\n",
              "        text-align: right;\n",
              "    }\n",
              "</style>\n",
              "<table border=\"1\" class=\"dataframe\">\n",
              "  <thead>\n",
              "    <tr style=\"text-align: right;\">\n",
              "      <th></th>\n",
              "      <th>click_time_month</th>\n",
              "      <th>click_time_day</th>\n",
              "      <th>click_time_hour</th>\n",
              "      <th></th>\n",
              "      <th>0</th>\n",
              "      <th>1</th>\n",
              "      <th>2</th>\n",
              "      <th>3</th>\n",
              "      <th>4</th>\n",
              "      <th>5</th>\n",
              "      <th>...</th>\n",
              "      <th>q</th>\n",
              "      <th>r</th>\n",
              "      <th>s</th>\n",
              "      <th>t</th>\n",
              "      <th>u</th>\n",
              "      <th>v</th>\n",
              "      <th>w</th>\n",
              "      <th>x</th>\n",
              "      <th>y</th>\n",
              "      <th>z</th>\n",
              "    </tr>\n",
              "  </thead>\n",
              "  <tbody>\n",
              "    <tr>\n",
              "      <th>12528</th>\n",
              "      <td>10</td>\n",
              "      <td>16</td>\n",
              "      <td>19</td>\n",
              "      <td>0.381177</td>\n",
              "      <td>0.00000</td>\n",
              "      <td>0.000000</td>\n",
              "      <td>0.000000</td>\n",
              "      <td>0.000000</td>\n",
              "      <td>0.0</td>\n",
              "      <td>0.0</td>\n",
              "      <td>...</td>\n",
              "      <td>0.0</td>\n",
              "      <td>0.205076</td>\n",
              "      <td>0.272125</td>\n",
              "      <td>0.000000</td>\n",
              "      <td>0.392529</td>\n",
              "      <td>0.501702</td>\n",
              "      <td>0.000000</td>\n",
              "      <td>0.0</td>\n",
              "      <td>0.00000</td>\n",
              "      <td>0.000000</td>\n",
              "    </tr>\n",
              "    <tr>\n",
              "      <th>3617</th>\n",
              "      <td>10</td>\n",
              "      <td>9</td>\n",
              "      <td>11</td>\n",
              "      <td>0.260839</td>\n",
              "      <td>0.00000</td>\n",
              "      <td>0.000000</td>\n",
              "      <td>0.000000</td>\n",
              "      <td>0.000000</td>\n",
              "      <td>0.0</td>\n",
              "      <td>0.0</td>\n",
              "      <td>...</td>\n",
              "      <td>0.0</td>\n",
              "      <td>0.561335</td>\n",
              "      <td>0.000000</td>\n",
              "      <td>0.000000</td>\n",
              "      <td>0.000000</td>\n",
              "      <td>0.000000</td>\n",
              "      <td>0.424306</td>\n",
              "      <td>0.0</td>\n",
              "      <td>0.00000</td>\n",
              "      <td>0.000000</td>\n",
              "    </tr>\n",
              "    <tr>\n",
              "      <th>7950</th>\n",
              "      <td>10</td>\n",
              "      <td>18</td>\n",
              "      <td>20</td>\n",
              "      <td>0.000000</td>\n",
              "      <td>0.64889</td>\n",
              "      <td>0.580946</td>\n",
              "      <td>0.193208</td>\n",
              "      <td>0.187440</td>\n",
              "      <td>0.0</td>\n",
              "      <td>0.0</td>\n",
              "      <td>...</td>\n",
              "      <td>0.0</td>\n",
              "      <td>0.000000</td>\n",
              "      <td>0.000000</td>\n",
              "      <td>0.000000</td>\n",
              "      <td>0.000000</td>\n",
              "      <td>0.000000</td>\n",
              "      <td>0.118069</td>\n",
              "      <td>0.0</td>\n",
              "      <td>0.00000</td>\n",
              "      <td>0.000000</td>\n",
              "    </tr>\n",
              "    <tr>\n",
              "      <th>7876</th>\n",
              "      <td>10</td>\n",
              "      <td>2</td>\n",
              "      <td>7</td>\n",
              "      <td>0.000000</td>\n",
              "      <td>0.00000</td>\n",
              "      <td>0.000000</td>\n",
              "      <td>0.000000</td>\n",
              "      <td>0.000000</td>\n",
              "      <td>0.0</td>\n",
              "      <td>0.0</td>\n",
              "      <td>...</td>\n",
              "      <td>0.0</td>\n",
              "      <td>0.310820</td>\n",
              "      <td>0.000000</td>\n",
              "      <td>0.000000</td>\n",
              "      <td>0.000000</td>\n",
              "      <td>0.000000</td>\n",
              "      <td>0.000000</td>\n",
              "      <td>0.0</td>\n",
              "      <td>0.00000</td>\n",
              "      <td>0.720935</td>\n",
              "    </tr>\n",
              "    <tr>\n",
              "      <th>2000</th>\n",
              "      <td>9</td>\n",
              "      <td>17</td>\n",
              "      <td>16</td>\n",
              "      <td>0.218361</td>\n",
              "      <td>0.00000</td>\n",
              "      <td>0.000000</td>\n",
              "      <td>0.000000</td>\n",
              "      <td>0.000000</td>\n",
              "      <td>0.0</td>\n",
              "      <td>0.0</td>\n",
              "      <td>...</td>\n",
              "      <td>0.0</td>\n",
              "      <td>0.000000</td>\n",
              "      <td>0.000000</td>\n",
              "      <td>0.000000</td>\n",
              "      <td>0.000000</td>\n",
              "      <td>0.000000</td>\n",
              "      <td>0.000000</td>\n",
              "      <td>0.0</td>\n",
              "      <td>0.00000</td>\n",
              "      <td>0.000000</td>\n",
              "    </tr>\n",
              "    <tr>\n",
              "      <th>...</th>\n",
              "      <td>...</td>\n",
              "      <td>...</td>\n",
              "      <td>...</td>\n",
              "      <td>...</td>\n",
              "      <td>...</td>\n",
              "      <td>...</td>\n",
              "      <td>...</td>\n",
              "      <td>...</td>\n",
              "      <td>...</td>\n",
              "      <td>...</td>\n",
              "      <td>...</td>\n",
              "      <td>...</td>\n",
              "      <td>...</td>\n",
              "      <td>...</td>\n",
              "      <td>...</td>\n",
              "      <td>...</td>\n",
              "      <td>...</td>\n",
              "      <td>...</td>\n",
              "      <td>...</td>\n",
              "      <td>...</td>\n",
              "      <td>...</td>\n",
              "    </tr>\n",
              "    <tr>\n",
              "      <th>7103</th>\n",
              "      <td>9</td>\n",
              "      <td>14</td>\n",
              "      <td>12</td>\n",
              "      <td>0.000000</td>\n",
              "      <td>0.00000</td>\n",
              "      <td>0.000000</td>\n",
              "      <td>0.000000</td>\n",
              "      <td>0.774411</td>\n",
              "      <td>0.0</td>\n",
              "      <td>0.0</td>\n",
              "      <td>...</td>\n",
              "      <td>0.0</td>\n",
              "      <td>0.000000</td>\n",
              "      <td>0.000000</td>\n",
              "      <td>0.000000</td>\n",
              "      <td>0.000000</td>\n",
              "      <td>0.000000</td>\n",
              "      <td>0.000000</td>\n",
              "      <td>0.0</td>\n",
              "      <td>0.00000</td>\n",
              "      <td>0.000000</td>\n",
              "    </tr>\n",
              "    <tr>\n",
              "      <th>3496</th>\n",
              "      <td>9</td>\n",
              "      <td>19</td>\n",
              "      <td>20</td>\n",
              "      <td>0.160137</td>\n",
              "      <td>0.00000</td>\n",
              "      <td>0.000000</td>\n",
              "      <td>0.000000</td>\n",
              "      <td>0.000000</td>\n",
              "      <td>0.0</td>\n",
              "      <td>0.0</td>\n",
              "      <td>...</td>\n",
              "      <td>0.0</td>\n",
              "      <td>0.344620</td>\n",
              "      <td>0.228646</td>\n",
              "      <td>0.000000</td>\n",
              "      <td>0.000000</td>\n",
              "      <td>0.421542</td>\n",
              "      <td>0.000000</td>\n",
              "      <td>0.0</td>\n",
              "      <td>0.31825</td>\n",
              "      <td>0.000000</td>\n",
              "    </tr>\n",
              "    <tr>\n",
              "      <th>2449</th>\n",
              "      <td>10</td>\n",
              "      <td>6</td>\n",
              "      <td>17</td>\n",
              "      <td>0.000000</td>\n",
              "      <td>0.00000</td>\n",
              "      <td>0.000000</td>\n",
              "      <td>0.000000</td>\n",
              "      <td>0.000000</td>\n",
              "      <td>0.0</td>\n",
              "      <td>0.0</td>\n",
              "      <td>...</td>\n",
              "      <td>0.0</td>\n",
              "      <td>0.000000</td>\n",
              "      <td>0.000000</td>\n",
              "      <td>0.000000</td>\n",
              "      <td>0.000000</td>\n",
              "      <td>0.000000</td>\n",
              "      <td>0.000000</td>\n",
              "      <td>0.0</td>\n",
              "      <td>0.00000</td>\n",
              "      <td>0.000000</td>\n",
              "    </tr>\n",
              "    <tr>\n",
              "      <th>4524</th>\n",
              "      <td>8</td>\n",
              "      <td>30</td>\n",
              "      <td>12</td>\n",
              "      <td>0.231683</td>\n",
              "      <td>0.00000</td>\n",
              "      <td>0.000000</td>\n",
              "      <td>0.000000</td>\n",
              "      <td>0.000000</td>\n",
              "      <td>0.0</td>\n",
              "      <td>0.0</td>\n",
              "      <td>...</td>\n",
              "      <td>0.0</td>\n",
              "      <td>0.249295</td>\n",
              "      <td>0.330801</td>\n",
              "      <td>0.286377</td>\n",
              "      <td>0.000000</td>\n",
              "      <td>0.000000</td>\n",
              "      <td>0.000000</td>\n",
              "      <td>0.0</td>\n",
              "      <td>0.00000</td>\n",
              "      <td>0.000000</td>\n",
              "    </tr>\n",
              "    <tr>\n",
              "      <th>5547</th>\n",
              "      <td>10</td>\n",
              "      <td>15</td>\n",
              "      <td>12</td>\n",
              "      <td>0.000000</td>\n",
              "      <td>0.00000</td>\n",
              "      <td>0.000000</td>\n",
              "      <td>0.000000</td>\n",
              "      <td>0.000000</td>\n",
              "      <td>0.0</td>\n",
              "      <td>0.0</td>\n",
              "      <td>...</td>\n",
              "      <td>0.0</td>\n",
              "      <td>0.000000</td>\n",
              "      <td>0.000000</td>\n",
              "      <td>0.000000</td>\n",
              "      <td>0.000000</td>\n",
              "      <td>0.000000</td>\n",
              "      <td>0.000000</td>\n",
              "      <td>0.0</td>\n",
              "      <td>0.00000</td>\n",
              "      <td>0.000000</td>\n",
              "    </tr>\n",
              "  </tbody>\n",
              "</table>\n",
              "<p>3883 rows × 41 columns</p>\n",
              "</div>\n",
              "      <button class=\"colab-df-convert\" onclick=\"convertToInteractive('df-3f9f9c6b-8c13-48ee-b86f-671b882280f7')\"\n",
              "              title=\"Convert this dataframe to an interactive table.\"\n",
              "              style=\"display:none;\">\n",
              "        \n",
              "  <svg xmlns=\"http://www.w3.org/2000/svg\" height=\"24px\"viewBox=\"0 0 24 24\"\n",
              "       width=\"24px\">\n",
              "    <path d=\"M0 0h24v24H0V0z\" fill=\"none\"/>\n",
              "    <path d=\"M18.56 5.44l.94 2.06.94-2.06 2.06-.94-2.06-.94-.94-2.06-.94 2.06-2.06.94zm-11 1L8.5 8.5l.94-2.06 2.06-.94-2.06-.94L8.5 2.5l-.94 2.06-2.06.94zm10 10l.94 2.06.94-2.06 2.06-.94-2.06-.94-.94-2.06-.94 2.06-2.06.94z\"/><path d=\"M17.41 7.96l-1.37-1.37c-.4-.4-.92-.59-1.43-.59-.52 0-1.04.2-1.43.59L10.3 9.45l-7.72 7.72c-.78.78-.78 2.05 0 2.83L4 21.41c.39.39.9.59 1.41.59.51 0 1.02-.2 1.41-.59l7.78-7.78 2.81-2.81c.8-.78.8-2.07 0-2.86zM5.41 20L4 18.59l7.72-7.72 1.47 1.35L5.41 20z\"/>\n",
              "  </svg>\n",
              "      </button>\n",
              "      \n",
              "  <style>\n",
              "    .colab-df-container {\n",
              "      display:flex;\n",
              "      flex-wrap:wrap;\n",
              "      gap: 12px;\n",
              "    }\n",
              "\n",
              "    .colab-df-convert {\n",
              "      background-color: #E8F0FE;\n",
              "      border: none;\n",
              "      border-radius: 50%;\n",
              "      cursor: pointer;\n",
              "      display: none;\n",
              "      fill: #1967D2;\n",
              "      height: 32px;\n",
              "      padding: 0 0 0 0;\n",
              "      width: 32px;\n",
              "    }\n",
              "\n",
              "    .colab-df-convert:hover {\n",
              "      background-color: #E2EBFA;\n",
              "      box-shadow: 0px 1px 2px rgba(60, 64, 67, 0.3), 0px 1px 3px 1px rgba(60, 64, 67, 0.15);\n",
              "      fill: #174EA6;\n",
              "    }\n",
              "\n",
              "    [theme=dark] .colab-df-convert {\n",
              "      background-color: #3B4455;\n",
              "      fill: #D2E3FC;\n",
              "    }\n",
              "\n",
              "    [theme=dark] .colab-df-convert:hover {\n",
              "      background-color: #434B5C;\n",
              "      box-shadow: 0px 1px 3px 1px rgba(0, 0, 0, 0.15);\n",
              "      filter: drop-shadow(0px 1px 2px rgba(0, 0, 0, 0.3));\n",
              "      fill: #FFFFFF;\n",
              "    }\n",
              "  </style>\n",
              "\n",
              "      <script>\n",
              "        const buttonEl =\n",
              "          document.querySelector('#df-3f9f9c6b-8c13-48ee-b86f-671b882280f7 button.colab-df-convert');\n",
              "        buttonEl.style.display =\n",
              "          google.colab.kernel.accessAllowed ? 'block' : 'none';\n",
              "\n",
              "        async function convertToInteractive(key) {\n",
              "          const element = document.querySelector('#df-3f9f9c6b-8c13-48ee-b86f-671b882280f7');\n",
              "          const dataTable =\n",
              "            await google.colab.kernel.invokeFunction('convertToInteractive',\n",
              "                                                     [key], {});\n",
              "          if (!dataTable) return;\n",
              "\n",
              "          const docLinkHtml = 'Like what you see? Visit the ' +\n",
              "            '<a target=\"_blank\" href=https://colab.research.google.com/notebooks/data_table.ipynb>data table notebook</a>'\n",
              "            + ' to learn more about interactive tables.';\n",
              "          element.innerHTML = '';\n",
              "          dataTable['output_type'] = 'display_data';\n",
              "          await google.colab.output.renderOutput(dataTable, element);\n",
              "          const docLink = document.createElement('div');\n",
              "          docLink.innerHTML = docLinkHtml;\n",
              "          element.appendChild(docLink);\n",
              "        }\n",
              "      </script>\n",
              "    </div>\n",
              "  </div>\n",
              "  "
            ]
          },
          "metadata": {},
          "execution_count": 125
        }
      ]
    },
    {
      "cell_type": "code",
      "execution_count": null,
      "metadata": {
        "id": "bde96Lbbiubh"
      },
      "outputs": [],
      "source": [
        "from sklearn.ensemble import RandomForestClassifier\n",
        "from sklearn.model_selection import GridSearchCV"
      ]
    },
    {
      "cell_type": "code",
      "execution_count": null,
      "metadata": {
        "id": "BpXlLDnAiubi"
      },
      "outputs": [],
      "source": [
        "clf_rf = RandomForestClassifier(n_estimators=20)"
      ]
    },
    {
      "cell_type": "code",
      "source": [
        "clf_rf.fit(X_train, y_train)"
      ],
      "metadata": {
        "colab": {
          "base_uri": "https://localhost:8080/"
        },
        "id": "TPZHTFhdF8mt",
        "outputId": "725b6e46-a84a-476c-bf88-06a55ecd21f7"
      },
      "execution_count": null,
      "outputs": [
        {
          "output_type": "execute_result",
          "data": {
            "text/plain": [
              "RandomForestClassifier(n_estimators=20)"
            ]
          },
          "metadata": {},
          "execution_count": 170
        }
      ]
    },
    {
      "cell_type": "code",
      "source": [
        "clf_rf.score(X_test, y_test)"
      ],
      "metadata": {
        "colab": {
          "base_uri": "https://localhost:8080/"
        },
        "id": "DwGGxzFS2AEA",
        "outputId": "d567adf3-7366-4ba4-911a-084cc50dfd9c"
      },
      "execution_count": null,
      "outputs": [
        {
          "output_type": "execute_result",
          "data": {
            "text/plain": [
              "0.6018882769472856"
            ]
          },
          "metadata": {},
          "execution_count": 171
        }
      ]
    },
    {
      "cell_type": "code",
      "source": [
        "y_pred = clf_rf.predict(X_test)"
      ],
      "metadata": {
        "id": "jx9m6xLRFHle"
      },
      "execution_count": null,
      "outputs": []
    },
    {
      "cell_type": "code",
      "execution_count": null,
      "metadata": {
        "colab": {
          "base_uri": "https://localhost:8080/"
        },
        "id": "UeDS92qMiubj",
        "outputId": "5da6868b-32da-4b57-ae4e-70bfcfd9138f"
      },
      "outputs": [
        {
          "output_type": "stream",
          "name": "stderr",
          "text": [
            "/usr/local/lib/python3.8/dist-packages/sklearn/model_selection/_split.py:676: UserWarning: The least populated class in y has only 1 members, which is less than n_splits=5.\n",
            "  warnings.warn(\n"
          ]
        },
        {
          "output_type": "execute_result",
          "data": {
            "text/plain": [
              "GridSearchCV(cv=5, estimator=RandomForestClassifier(n_estimators=20),\n",
              "             param_grid={'max_depth': range(9, 20, 2),\n",
              "                         'min_samples_leaf': range(30, 101, 20),\n",
              "                         'min_samples_split': range(10, 101, 10)})"
            ]
          },
          "metadata": {},
          "execution_count": 173
        }
      ],
      "source": [
        "parameters = {'max_depth':range(9, 20, 2), 'min_samples_leaf': range(30, 101, 20), \\\n",
        "             'min_samples_split':range(10, 101, 10)}\n",
        "grid_search_cv_clf = GridSearchCV(clf_rf, parameters, cv=5)\n",
        "grid_search_cv_clf.fit(X_train, y_train)"
      ]
    },
    {
      "cell_type": "code",
      "source": [
        "grid_search_cv_clf.best_estimator_"
      ],
      "metadata": {
        "colab": {
          "base_uri": "https://localhost:8080/"
        },
        "id": "R4TDQ1oigjKx",
        "outputId": "218fee8c-7c57-4a87-d564-f7ac8a304c2f"
      },
      "execution_count": null,
      "outputs": [
        {
          "output_type": "execute_result",
          "data": {
            "text/plain": [
              "RandomForestClassifier(max_depth=19, min_samples_leaf=30, min_samples_split=50,\n",
              "                       n_estimators=20)"
            ]
          },
          "metadata": {},
          "execution_count": 200
        }
      ]
    },
    {
      "cell_type": "code",
      "execution_count": null,
      "metadata": {
        "id": "p7tdZC7miubk"
      },
      "outputs": [],
      "source": [
        "best_clf = grid_search_cv_clf.best_estimator_"
      ]
    },
    {
      "cell_type": "code",
      "execution_count": null,
      "metadata": {
        "id": "Juuj67kDiubk"
      },
      "outputs": [],
      "source": [
        "y_pred = best_clf.predict(X_test)"
      ]
    },
    {
      "cell_type": "code",
      "execution_count": null,
      "metadata": {
        "id": "yEmjWZJUiubk",
        "colab": {
          "base_uri": "https://localhost:8080/"
        },
        "outputId": "9880c661-0b72-41ec-d515-4ec50eeb68f3"
      },
      "outputs": [
        {
          "output_type": "execute_result",
          "data": {
            "text/plain": [
              "0.6027537372147915"
            ]
          },
          "metadata": {},
          "execution_count": 176
        }
      ],
      "source": [
        "best_clf.score(X_test, y_test)"
      ]
    },
    {
      "cell_type": "code",
      "source": [
        "prob = clf_rf.predict_proba(X_test)"
      ],
      "metadata": {
        "id": "uojedo96LlPm"
      },
      "execution_count": null,
      "outputs": []
    },
    {
      "cell_type": "code",
      "source": [
        "train_sku = y_train.unique()"
      ],
      "metadata": {
        "id": "mVWbZu-QLnKX"
      },
      "execution_count": null,
      "outputs": []
    },
    {
      "cell_type": "code",
      "source": [
        "train_sku = list(train_sku)"
      ],
      "metadata": {
        "id": "Ujw9OYDtLnMy"
      },
      "execution_count": null,
      "outputs": []
    },
    {
      "cell_type": "code",
      "source": [
        "train_sku.sort()"
      ],
      "metadata": {
        "id": "XapTpe8ZLnPS"
      },
      "execution_count": null,
      "outputs": []
    },
    {
      "cell_type": "code",
      "source": [
        "pred_df = pd.DataFrame(prob, columns = train_sku)"
      ],
      "metadata": {
        "id": "bbh-QDtOLnRy"
      },
      "execution_count": null,
      "outputs": []
    },
    {
      "cell_type": "code",
      "source": [
        "pred_df = pred_df.transpose()"
      ],
      "metadata": {
        "id": "acM7DfSmLnUT"
      },
      "execution_count": null,
      "outputs": []
    },
    {
      "cell_type": "code",
      "source": [
        "test_labels = [str(i) for i in y_test]"
      ],
      "metadata": {
        "id": "_M3LkOQWLnW6"
      },
      "execution_count": null,
      "outputs": []
    },
    {
      "cell_type": "code",
      "source": [
        "pred_df.columns = test_labels"
      ],
      "metadata": {
        "id": "rYyXUyPFLnZp"
      },
      "execution_count": null,
      "outputs": []
    },
    {
      "cell_type": "code",
      "source": [
        "y = y.reset_index(drop=True)"
      ],
      "metadata": {
        "id": "rvxRgiTILncF"
      },
      "execution_count": null,
      "outputs": []
    },
    {
      "cell_type": "code",
      "source": [
        "y"
      ],
      "metadata": {
        "colab": {
          "base_uri": "https://localhost:8080/"
        },
        "id": "ERMhW06GQ0y0",
        "outputId": "5ccb684f-6464-4904-f22c-ce9969080b63"
      },
      "execution_count": null,
      "outputs": [
        {
          "output_type": "execute_result",
          "data": {
            "text/plain": [
              "0           2032076\n",
              "1           9854804\n",
              "2           2670133\n",
              "3           9984142\n",
              "4           2541184\n",
              "             ...   \n",
              "42361       2173065\n",
              "42362       3046603\n",
              "42363       2340293\n",
              "42364       2953607\n",
              "top5_SKU           \n",
              "Name: sku, Length: 42366, dtype: object"
            ]
          },
          "metadata": {},
          "execution_count": 197
        }
      ]
    },
    {
      "cell_type": "code",
      "source": [
        "y.columns =['sku']\n",
        "\n",
        "# displaying the DataFrame\n",
        "print(y)"
      ],
      "metadata": {
        "colab": {
          "base_uri": "https://localhost:8080/"
        },
        "id": "I8w6u_xaRZDt",
        "outputId": "168e2bbd-3b54-486c-fc70-168632bc411a"
      },
      "execution_count": null,
      "outputs": [
        {
          "output_type": "stream",
          "name": "stdout",
          "text": [
            "0           2032076\n",
            "1           9854804\n",
            "2           2670133\n",
            "3           9984142\n",
            "4           2541184\n",
            "             ...   \n",
            "42361       2173065\n",
            "42362       3046603\n",
            "42363       2340293\n",
            "42364       2953607\n",
            "top5_SKU           \n",
            "Name: sku, Length: 42366, dtype: object\n"
          ]
        }
      ]
    },
    {
      "cell_type": "code",
      "source": [
        "y['top5_SKU'] = \"\""
      ],
      "metadata": {
        "id": "hV8qLS1uRDTH"
      },
      "execution_count": null,
      "outputs": []
    },
    {
      "cell_type": "code",
      "source": [
        "y['top5_SKU'] = \"\"\n",
        "# pred_df.iloc[:,[1]]\n",
        "for i in range(0,len(y['sku']) - 1):\n",
        "    s1 = y['sku'][i]\n",
        "    d = pred_df.iloc[:,[i]]\n",
        "    top5 = d.nlargest(5,d.columns[0])\n",
        "    x = list(top5.index)\n",
        "    y['top5_SKU'][i] = x"
      ],
      "metadata": {
        "id": "sBJxNwWMMCCl"
      },
      "execution_count": null,
      "outputs": []
    },
    {
      "cell_type": "code",
      "execution_count": null,
      "metadata": {
        "id": "RyeDYzx6iubl"
      },
      "outputs": [],
      "source": [
        "output = pd.DataFrame({'Sku': y_pred})\n",
        "output.to_csv(\"/content/drive/MyDrive/Data 240/Group/predict.csv\")"
      ]
    },
    {
      "cell_type": "code",
      "execution_count": null,
      "metadata": {
        "id": "Y0eEbaLIiubn"
      },
      "outputs": [],
      "source": [
        "from sklearn.metrics import mean_squared_error\n",
        "\n",
        "mean_squared_error(y_test, y_pred, squared=False)"
      ]
    },
    {
      "cell_type": "code",
      "execution_count": null,
      "metadata": {
        "id": "xXSgKtRMiubn"
      },
      "outputs": [],
      "source": [
        "n = len(pd.unique(y_pred))\n",
        "\n",
        "print(\"No.of.unique values :\",\n",
        "      n)"
      ]
    },
    {
      "cell_type": "code",
      "execution_count": null,
      "metadata": {
        "id": "aD5eNyYgiubo"
      },
      "outputs": [],
      "source": [
        "y_pred"
      ]
    },
    {
      "cell_type": "markdown",
      "source": [
        "# Display Values of the click_time column"
      ],
      "metadata": {
        "id": "XlMzckdcE6k5"
      }
    },
    {
      "cell_type": "code",
      "source": [
        "X['query'].value_counts()"
      ],
      "metadata": {
        "id": "cx4x8ivWFQyC"
      },
      "execution_count": null,
      "outputs": []
    },
    {
      "cell_type": "code",
      "source": [
        "train_data['sku'].value_counts()"
      ],
      "metadata": {
        "id": "8d0QkgA4Gt8d"
      },
      "execution_count": null,
      "outputs": []
    },
    {
      "cell_type": "code",
      "source": [
        "train_data"
      ],
      "metadata": {
        "id": "gEcoefXIKNoo"
      },
      "execution_count": null,
      "outputs": []
    },
    {
      "cell_type": "code",
      "source": [
        "train_data[\"click_time_month\"].value_counts()"
      ],
      "metadata": {
        "id": "CjPfj_dGPrMr"
      },
      "execution_count": null,
      "outputs": []
    },
    {
      "cell_type": "code",
      "source": [
        "months_train = train_data[\"click_time_month\"].value_counts()\n",
        "#sizes_train = sizes_train / np.sum(sizes_train)\n",
        "\n",
        "plt.figure(figsize=(16,4))\n",
        "sns.barplot(months_train.index, months_train.values, alpha=0.8)\n",
        "plt.legend()\n",
        "plt.xlabel('Months', fontsize=12)\n",
        "plt.ylabel('Occurence', fontsize=12)"
      ],
      "metadata": {
        "id": "CsHHxU1dPcvS"
      },
      "execution_count": null,
      "outputs": []
    },
    {
      "cell_type": "code",
      "source": [
        "days_train = train_data[\"click_time_day\"].value_counts()\n",
        "#sizes_train = sizes_train / np.sum(sizes_train)\n",
        "\n",
        "plt.figure(figsize=(16,4))\n",
        "sns.barplot(days_train.index, days_train.values, alpha=0.8)\n",
        "plt.legend()\n",
        "plt.xlabel('Days', fontsize=12)\n",
        "plt.ylabel('Occurence', fontsize=12)"
      ],
      "metadata": {
        "id": "ngP7oYD-PvHr"
      },
      "execution_count": null,
      "outputs": []
    },
    {
      "cell_type": "code",
      "source": [
        "hours_train = train_data[\"click_time_hour\"].value_counts()\n",
        "#sizes_train = sizes_train / np.sum(sizes_train)\n",
        "\n",
        "plt.figure(figsize=(16,4))\n",
        "sns.barplot(hours_train.index, hours_train.values, alpha=0.8)\n",
        "plt.legend()\n",
        "plt.xlabel('Hours', fontsize=12)\n",
        "plt.ylabel('Occurence', fontsize=12)"
      ],
      "metadata": {
        "id": "layl-yywP3Q5"
      },
      "execution_count": null,
      "outputs": []
    },
    {
      "cell_type": "code",
      "source": [
        "train_data[\"sku\"].value_counts()"
      ],
      "metadata": {
        "id": "NL7rHj3OQP3y"
      },
      "execution_count": null,
      "outputs": []
    },
    {
      "cell_type": "markdown",
      "source": [
        "#Attempt on DBSCAN"
      ],
      "metadata": {
        "id": "MERlGSdoQ-EZ"
      }
    },
    {
      "cell_type": "code",
      "source": [
        "df = X.copy()"
      ],
      "metadata": {
        "id": "Z82LW3sdKQa_"
      },
      "execution_count": null,
      "outputs": []
    },
    {
      "cell_type": "code",
      "source": [
        "test = new_df.loc[:, ['query',\n",
        "                 'click_time_day']].values"
      ],
      "metadata": {
        "id": "5Q-Lr7FeKa4c"
      },
      "execution_count": null,
      "outputs": []
    },
    {
      "cell_type": "code",
      "source": [
        "print(test.shape)"
      ],
      "metadata": {
        "id": "VI0ejb_FKlwD"
      },
      "execution_count": null,
      "outputs": []
    },
    {
      "cell_type": "code",
      "source": [
        "from sklearn.cluster import DBSCAN\n",
        "# cluster the data into five clusters\n",
        "dbscan = DBSCAN(eps = 4, min_samples = 4).fit(test) # fitting the model\n",
        "labels = dbscan.labels_ # getting the labels"
      ],
      "metadata": {
        "id": "N0nyqx2uKnDH"
      },
      "execution_count": null,
      "outputs": []
    },
    {
      "cell_type": "code",
      "source": [
        "from matplotlib.pyplot import figure"
      ],
      "metadata": {
        "id": "zRr7jHI_L5jf"
      },
      "execution_count": null,
      "outputs": []
    },
    {
      "cell_type": "code",
      "source": [
        "# Plot the clusters\n",
        "plt.figure(figsize=(20, 8), dpi=80)\n",
        "plt.scatter(test[:, 0], test[:,1], c = labels, cmap= \"plasma\") # plotting the clusters\n",
        "plt.xlabel(\"Income\") # X-axis label\n",
        "plt.ylabel(\"Spending Score\") # Y-axis label\n",
        "plt.show() # showing the plot"
      ],
      "metadata": {
        "id": "rmqI7xyrKnFE"
      },
      "execution_count": null,
      "outputs": []
    },
    {
      "cell_type": "code",
      "source": [
        "n = 5\n",
        "top_5 = X['query'].value_counts()[:n].index.tolist()"
      ],
      "metadata": {
        "id": "56Dom-DVOEKe"
      },
      "execution_count": null,
      "outputs": []
    },
    {
      "cell_type": "code",
      "source": [
        "top_5"
      ],
      "metadata": {
        "id": "9pqGS6ivVQDT"
      },
      "execution_count": null,
      "outputs": []
    },
    {
      "cell_type": "code",
      "source": [
        "new_df = X.loc[df['query'].isin(top_5)]"
      ],
      "metadata": {
        "id": "trTY6h-gObV-"
      },
      "execution_count": null,
      "outputs": []
    },
    {
      "cell_type": "code",
      "source": [
        "new_df"
      ],
      "metadata": {
        "id": "xCUHbdQ8OhKH"
      },
      "execution_count": null,
      "outputs": []
    },
    {
      "cell_type": "code",
      "source": [
        "new_df[\"query\"].value_counts()"
      ],
      "metadata": {
        "id": "zwzESZRZOh2_"
      },
      "execution_count": null,
      "outputs": []
    },
    {
      "cell_type": "code",
      "execution_count": null,
      "metadata": {
        "id": "t9RYvFIcgPLb"
      },
      "outputs": [],
      "source": [
        "from sklearn.model_selection import train_test_split\n",
        "X_train, X_test, y_train, y_test = train_test_split(X, y, test_size=0.25, random_state=42)"
      ]
    },
    {
      "cell_type": "code",
      "execution_count": null,
      "metadata": {
        "id": "S-pL6fmrgPLb"
      },
      "outputs": [],
      "source": [
        "from sklearn.ensemble import RandomForestClassifier\n",
        "from sklearn.model_selection import GridSearchCV"
      ]
    },
    {
      "cell_type": "code",
      "execution_count": null,
      "metadata": {
        "id": "ft8g4LbygPLb"
      },
      "outputs": [],
      "source": [
        "clf_rf = RandomForestClassifier(n_estimators=20)"
      ]
    },
    {
      "cell_type": "code",
      "source": [
        "clf_rf.fit(X_train, y_train)"
      ],
      "metadata": {
        "id": "JzVVa6dogPLc"
      },
      "execution_count": null,
      "outputs": []
    },
    {
      "cell_type": "code",
      "source": [
        "clf_rf.score(X_test, y_test)"
      ],
      "metadata": {
        "id": "Ga-eILi1gPLc"
      },
      "execution_count": null,
      "outputs": []
    },
    {
      "cell_type": "code",
      "source": [],
      "metadata": {
        "id": "wjMl9xliVSVG"
      },
      "execution_count": null,
      "outputs": []
    }
  ],
  "metadata": {
    "colab": {
      "provenance": [],
      "machine_shape": "hm"
    },
    "kernelspec": {
      "display_name": "Python 3",
      "language": "python",
      "name": "python3"
    },
    "language_info": {
      "codemirror_mode": {
        "name": "ipython",
        "version": 3
      },
      "file_extension": ".py",
      "mimetype": "text/x-python",
      "name": "python",
      "nbconvert_exporter": "python",
      "pygments_lexer": "ipython3",
      "version": "3.7.9"
    },
    "papermill": {
      "default_parameters": {},
      "duration": 1112.070021,
      "end_time": "2022-09-20T15:07:16.201004",
      "environment_variables": {},
      "exception": null,
      "input_path": "__notebook__.ipynb",
      "output_path": "__notebook__.ipynb",
      "parameters": {},
      "start_time": "2022-09-20T14:48:44.130983",
      "version": "2.2.2"
    },
    "gpuClass": "standard"
  },
  "nbformat": 4,
  "nbformat_minor": 0
}